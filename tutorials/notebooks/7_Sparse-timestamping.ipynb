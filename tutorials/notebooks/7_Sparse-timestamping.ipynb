{
 "cells": [
  {
   "cell_type": "markdown",
   "metadata": {},
   "source": [
    "# pybela Tutorial 7: Sparse timestamping\n",
    "In the potentiometer example used in the previous tutorials, the values for `pot1` and `pot2` are assigned at every audio frame. Let's take a look again at the `render()` loop (the Bela code for this example can be found in  (in `bela-code/potentiometers/render.cpp`).\n",
    "\n",
    "```cpp\n",
    "void render(BelaContext *context, void *userData)\n",
    "{\n",
    "\tfor(unsigned int n = 0; n < context->audioFrames; n++) {\n",
    "\t\tif(gAudioFramesPerAnalogFrame && !(n % gAudioFramesPerAnalogFrame)) {\n",
    "\t\t\t\n",
    "\t\t\tuint64_t frames = context->audioFramesElapsed/gAudioFramesPerAnalogFrame + n/gAudioFramesPerAnalogFrame;\n",
    "\t\t\tBela_getDefaultWatcherManager()->tick(frames); // watcher timestamps\n",
    "\t\t\t\n",
    "\t\t\tpot1 = analogRead(context,  n/gAudioFramesPerAnalogFrame, gPot1Ch);\n",
    "\t\t\tpot2 = analogRead(context,  n/gAudioFramesPerAnalogFrame, gPot2Ch);\n",
    "\t\t\t\n",
    "\t\t}\n",
    "\t}\n",
    "}\n",
    "```\n",
    "\n",
    "\n",
    "The Watched clock is also \"ticked\" at every analog frame, so that the timestamps in the data correspond to the audio frames in the Bela code. The data buffers we received from Bela in the Streamer and the Logger had this form: `{\"ref_timestamp\": 92381, \"data\":[0.34, 0.45, ...]}`. Each data point is registered in the buffer every time we assign a value to `pot1` and `pot2` in the Bela code. The `ref_timestamp` corresponds to the timestamp of the first sample in the `data` array, in this case `0.34`. Since in the Bela code, we assign `pot1` and `pot2` at every audio frame, we can infer the timestamps of each value in the data array by incrementing `ref_timestamp` by 1 for each sample. \n",
    "\n",
    "This is an efficient way of storing data since instead of storing the timestamp of every item in the data array, we only store the timestamp of the first item. We call this *dense* timestamping. However, for many applications, we might not assign a value to a variable every frame, we might do it more than once per frame, once every few frames, or we might want to do it at irregular intervals. In these cases, we need to store the timestamp of every item in the data array. We call this *sparse* timestamping.\n",
    "\n",
    "In this tutorial we take a look at *sparse* timestamping. The complete documentation for the pybela library can be found in [https://belaplatform.github.io/pybela/](https://belaplatform.github.io/pybela/).\n",
    "\n",
    "First, transfer the Bela code we will use in this tutorial to Bela:\n"
   ]
  },
  {
   "cell_type": "code",
   "execution_count": null,
   "metadata": {},
   "outputs": [],
   "source": [
    "!rsync -rvL ../bela-code/timestamping root@bela.local:Bela/projects"
   ]
  },
  {
   "cell_type": "markdown",
   "metadata": {},
   "source": [
    "Then you can compile and run the project using either the IDE or by running the following command in the Terminal:\n",
    "```bash\n",
    "ssh root@bela.local \"make -C Bela stop Bela PROJECT=potentiometers run\" \n",
    "```\n",
    "(Running this on a jupyter notebook will block the cell until the program is stopped on Bela.)"
   ]
  },
  {
   "cell_type": "markdown",
   "metadata": {},
   "source": [
    "As in the previous tutorials, we will use two potentiometers connected to Bela analog inputs 0 and 1. Check the  `1_Streamer.ipnyb` tutorial notebook for instructions on how to set up the circuit. \n",
    "\n",
    "### Bela C++ code\n",
    "\n",
    "\n",
    "First, let's take a look at the Bela code. First, we have added `WatcherManager::kTimestampSample` to the declaration of `pot2`. This informs the Bela Watcher that `pot2` will be watched sparsely, that is, that the watcher will store a timestamp for every value assigned to `pot2`:\n",
    "\n",
    "```cpp\n",
    "Watcher<float> pot1(\"pot1\");\n",
    "Watcher<float> pot2(\"pot2\",  WatcherManager::kTimestampSample);\n",
    "```\n",
    "\n",
    "Now let's take a look at `render()`:\n",
    "\n",
    "```cpp\n",
    "void render(BelaContext *context, void *userData)\n",
    "{\n",
    "\tfor(unsigned int n = 0; n < context->audioFrames; n++) {\n",
    "\t\tif(gAudioFramesPerAnalogFrame && !(n % gAudioFramesPerAnalogFrame)) {\n",
    "\t\t\t\n",
    "\t\t\tuint64_t frames = context->audioFramesElapsed/gAudioFramesPerAnalogFrame + n/gAudioFramesPerAnalogFrame;\n",
    "\t\t\tBela_getDefaultWatcherManager()->tick(frames); // watcher timestamps\n",
    "\t\t\t\n",
    "\t\t\tpot1 = analogRead(context,  n/gAudioFramesPerAnalogFrame, gPot1Ch);\n",
    "\n",
    "\t\t\tif (frames % 12==0){\n",
    "\t\t\t\tpot2 = analogRead(context,  n/gAudioFramesPerAnalogFrame, gPot2Ch);\n",
    "\t\t\t}\n",
    "\t\t}\n",
    "\t}\n",
    "}\n",
    "```\n",
    "\n",
    "We are \"ticking\" the Bela Watcher once per analog frame, so that the timestamps in the data correspond to the analog frames in the Bela code. We are assigning a value to `pot1` at every analog frame, as in the previous examples, but we are now only assigning a value to `pot2` every 12 frames. \n",
    "\n",
    "### Dealing with sparse timestamps in Python\n",
    "\n",
    "Let's now take a look at the data we receive from Bela. We will use the Streamer. Run the cells below to declare and connect the Streamer to Bela:"
   ]
  },
  {
   "cell_type": "code",
   "execution_count": null,
   "metadata": {},
   "outputs": [],
   "source": [
    "import pandas as pd\n",
    "from pybela import Streamer"
   ]
  },
  {
   "cell_type": "code",
   "execution_count": null,
   "metadata": {},
   "outputs": [],
   "source": [
    "streamer = Streamer()\n",
    "streamer.connect()"
   ]
  },
  {
   "cell_type": "markdown",
   "metadata": {},
   "source": [
    "We can call `.list()`  to take a look at the variables available to be streamed, their types and timestamp mode:"
   ]
  },
  {
   "cell_type": "code",
   "execution_count": null,
   "metadata": {},
   "outputs": [],
   "source": [
    "streamer.list()"
   ]
  },
  {
   "cell_type": "markdown",
   "metadata": {},
   "source": [
    "`timestampMode` indicates if the timestamping is *sparse* (1) or *dense* (0). Now let's stream the data from Bela. We will stream `pot1` and `pot2`:"
   ]
  },
  {
   "cell_type": "code",
   "execution_count": null,
   "metadata": {},
   "outputs": [],
   "source": [
    "streamer.start_streaming(variables=[\"pot1\", \"pot2\"], saving_enabled=False)\n",
    "streamer.wait(2)\n",
    "streamer.stop_streaming()"
   ]
  },
  {
   "cell_type": "markdown",
   "metadata": {},
   "source": [
    "Now let's take a look at the streamed buffers for \"pot2\". Each buffer has the form `{\"ref_timestamp\": 912831, \"data\":[0.23, 0.24, ...], \"rel_timestamps\":[ 0, 12, ...]}`. `ref_timestamp` corresponds, as in the dense case, to the timestamp of the first data point in the `data` array. `rel_timestamps` is an array of timestamps relative to `ref_timestamp`. In this case, since we are assigning a value to `pot2` every 12 frames, the timestamps in `rel_timestamps` are `[0, 12, 24, 36, etc.]`."
   ]
  },
  {
   "cell_type": "code",
   "execution_count": null,
   "metadata": {},
   "outputs": [],
   "source": [
    "streamer.streaming_buffers_queue[\"pot2\"]"
   ]
  },
  {
   "cell_type": "markdown",
   "metadata": {},
   "source": [
    "You can now calculate the absolute timestamps of each data point by adding the values in `rel_timestamps` to `ref_timestamp`:"
   ]
  },
  {
   "cell_type": "code",
   "execution_count": null,
   "metadata": {},
   "outputs": [],
   "source": [
    "[streamer.streaming_buffers_queue[\"pot2\"][0][\"ref_timestamp\"]]*len(streamer.streaming_buffers_queue[\"pot2\"][0][\"rel_timestamps\"]) + streamer.streaming_buffers_queue[\"pot2\"][0][\"rel_timestamps\"]"
   ]
  },
  {
   "cell_type": "code",
   "execution_count": null,
   "metadata": {},
   "outputs": [],
   "source": [
    "pot2_data = {\"timestamps\":[], \"data\":[]}\n",
    "\n",
    "for _buffer in streamer.streaming_buffers_queue[\"pot2\"]:\n",
    "    pot2_data[\"timestamps\"].extend([_buffer[\"ref_timestamp\"] + i for i in _buffer[\"rel_timestamps\"]])\n",
    "    pot2_data[\"data\"].extend(_buffer[\"data\"])"
   ]
  },
  {
   "cell_type": "markdown",
   "metadata": {},
   "source": [
    "Note that the timestamps are spaced by 12, as expected:"
   ]
  },
  {
   "cell_type": "code",
   "execution_count": null,
   "metadata": {},
   "outputs": [],
   "source": [
    "df = pd.DataFrame(pot2_data)\n",
    "df.head()"
   ]
  }
 ],
 "metadata": {
  "kernelspec": {
   "display_name": "pybela-2uXYSGIe",
   "language": "python",
   "name": "python3"
  },
  "language_info": {
   "codemirror_mode": {
    "name": "ipython",
    "version": 3
   },
   "file_extension": ".py",
   "mimetype": "text/x-python",
   "name": "python",
   "nbconvert_exporter": "python",
   "pygments_lexer": "ipython3",
   "version": "3.9.19"
  },
  "orig_nbformat": 4
 },
 "nbformat": 4,
 "nbformat_minor": 2
}
