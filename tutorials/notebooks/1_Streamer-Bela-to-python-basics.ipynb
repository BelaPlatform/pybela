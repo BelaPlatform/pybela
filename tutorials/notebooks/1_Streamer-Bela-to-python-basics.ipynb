{
 "cells": [
  {
   "cell_type": "markdown",
   "metadata": {},
   "source": [
    "# pybela Tutorial 1: Streamer – Bela to python basics\n",
    "This notebook is a tutorial for the Streamer class in the pybela python library. You can use the Streamer to stream data from Bela to python or vice versa. \n",
    "\n",
    "In this tutorial we will be looking at sending data from Bela to python. The Streamer allows you to start and stop streaming, to stream a given number of data points, to plot the data as it arrives, and to save and load the streamed data into `.txt` files. \n",
    "\n",
    "The complete documentation for the pybela library can be found in [https://belaplatform.github.io/pybela/](https://belaplatform.github.io/pybela/).\n",
    "\n",
    "To run this tutorial, first copy the `bela-code/potentiometers` project onto Bela. If your Bela is connected to your laptop, you can run the cell below:"
   ]
  },
  {
   "cell_type": "code",
   "execution_count": null,
   "metadata": {},
   "outputs": [],
   "source": [
    "!rsync -rvL ../bela-code/potentiometers root@bela.local:Bela/projects"
   ]
  },
  {
   "cell_type": "markdown",
   "metadata": {},
   "source": [
    "Then you can compile and run the project using either the IDE or by running the following command in the Terminal:\n",
    "```bash\n",
    "ssh root@bela.local \"make -C Bela stop Bela PROJECT=potentiometers run\" \n",
    "```\n",
    "(Running this on a jupyter notebook will block the cell until the program is stopped on Bela.)"
   ]
  },
  {
   "cell_type": "markdown",
   "metadata": {},
   "source": [
    "### Setting up the circuit\n",
    "In this example we will be using two potentiometers as our analog signals, but you can connect whichever sensors you like to analog channels 0 and 1.\n",
    "\n",
    "Potentiometers have 3 pins. To connect a potentiometer to Bela, attach the left pin to the Bela 3.3V pin, the central pin to the desired analog input (e.g. 0) and the right pin to the Bela GND pin:\n",
    "\n",
    "<p align=\"center\">\n",
    "<img src=\"potentiometers-circuit.png\" width=800/>\n",
    "</p>\n",
    "\n",
    "### Taking a look at the Bela C++ code\n",
    "If you take a look into the Bela code (in `bela-code/potentiometers/render.cpp`), you will see that the variables `pot1` and `pot2` are defined in a particular way:\n",
    "\n",
    "```cpp\n",
    "Watcher<float> pot1(\"pot1\");\n",
    "Watcher<float> pot2(\"pot2\");\n",
    "```\n",
    "\n",
    "This means that the variables `pot1` and `pot2` are being \"watched\" and hence we can request their values to be streamed to this notebook using the pybela Streamer class. The watcher will stream a buffer containing timestamp and variable value information. Take a look at the `render` loop:\n",
    "\n",
    "```cpp\n",
    "void render(BelaContext *context, void *userData)\n",
    "{\n",
    "\tfor(unsigned int n = 0; n < context->audioFrames; n++) {\n",
    "\t\tif(gAudioFramesPerAnalogFrame && !(n % gAudioFramesPerAnalogFrame)) {\n",
    "\t\t\t\n",
    "\t\t\tuint64_t frames = context->audioFramesElapsed/gAudioFramesPerAnalogFrame + n/gAudioFramesPerAnalogFrame;\n",
    "\t\t\tBela_getDefaultWatcherManager()->tick(frames); // watcher timestamps\n",
    "\t\t\t\n",
    "\t\t\tpot1 = analogRead(context,  n/gAudioFramesPerAnalogFrame, gPot1Ch);\n",
    "\t\t\tpot2 = analogRead(context,  n/gAudioFramesPerAnalogFrame, gPot2Ch);\n",
    "\t\t\t\n",
    "\t\t}\n",
    "\t}\n",
    "}\n",
    "```\n",
    "\n",
    "we are reading the values of the potentiometer (with `analogRead()`) at every audio frame, and assigning them to their corresponding variable (`pot1` and `pot2`). In order for the Bela Watcher to know at which timestamp this happens, we need to \"tick\" the Watcher clock, we do this in line 30 with:\n",
    "```cpp\n",
    "\t\t\tBela_getDefaultWatcherManager()->tick(frames); // watcher timestamps\n",
    "```\n",
    "\n",
    "If you want to take a look at more advanced ways of watching variables, take a look at the Logger notebook. But enough with C++, let's take a look at the pybela Streamer class and its usage. \n",
    "\n",
    "### Getting started\n",
    "Once you have the circuit set up, build and run the Bela project `potentiometers`. Once running, we are ready to interact with it form this notebook. We'll start by importing some necessary libraries and setting the `BOKEH_ALLOW_WS_ORIGIN` environment that will allow us to visualise the bokeh plots (comment/uncomment depending on if you are running this notebook from a jupyter notebook or VSCode)."
   ]
  },
  {
   "cell_type": "code",
   "execution_count": null,
   "metadata": {},
   "outputs": [],
   "source": [
    "import pandas as pd\n",
    "from pybela import Streamer\n",
    "import os\n",
    "os.environ['BOKEH_ALLOW_WS_ORIGIN'] = \"1t4j54lsdj67h02ol8hionopt4k7b7ngd9483l5q5pagr3j2droq\" # uncomment if running on vscode\n",
    "# os.environ['BOKEH_ALLOW_WS_ORIGIN'] = \"localhost:8888\" # uncomment if running on jupyter"
   ]
  },
  {
   "cell_type": "markdown",
   "metadata": {},
   "source": [
    "Now let's initialise the streamer and connect it to the Bela websocket. If the connection fails, make sure Bela is connected to your laptop and that the `potentiometer` project is running on Bela."
   ]
  },
  {
   "cell_type": "code",
   "execution_count": null,
   "metadata": {},
   "outputs": [],
   "source": [
    "streamer = Streamer()\n",
    "streamer.connect()"
   ]
  },
  {
   "cell_type": "markdown",
   "metadata": {},
   "source": [
    "Let's start by streaming the values of potentiometer 1 and 2. For that, we call `streamer.start_streaming(variables=[\"pot1\", \"pot2\"])`. This will request the values of the variables `pot1` and `pot`. We can visualise those values as they arrive by plotting them using `streamer.plot_data(x_var=\"pot1\", y_vars=[\"pot1\", \"pot2\"], y_range=[0,1])`. The argument `x_var` determines which variable will provide the timestamps for the x axis, and the argument `y_vars` expects a list of variables that are currently being streamed or monitored. `y_range` determines the range of the y-axis."
   ]
  },
  {
   "cell_type": "code",
   "execution_count": null,
   "metadata": {},
   "outputs": [],
   "source": [
    "streamer.start_streaming(variables=[\"pot1\", \"pot2\"])\n",
    "streamer.plot_data(x_var=\"pot1\", y_vars=[\"pot1\", \"pot2\"], y_range=[0, 1], rollover=10000)"
   ]
  },
  {
   "cell_type": "markdown",
   "metadata": {},
   "source": [
    "You can stop streaming the values of potentiometer 1 and 2 by calling `streamer.stop_streaming(variables=[\"pot1\", \"pot2\"])`. You can also call `streamer.stop_streaming()` which will stop streaming all the available variables in the watcher (in this case, both `pot1` and `pot2`)."
   ]
  },
  {
   "cell_type": "code",
   "execution_count": null,
   "metadata": {},
   "outputs": [],
   "source": [
    "streamer.stop_streaming()\n"
   ]
  },
  {
   "cell_type": "markdown",
   "metadata": {},
   "source": [
    "### Using `.wait` to stream data for a fixed amount of time\n",
    "You can use the `.wait` method to stream data for a fixed amount of time. Note: you need to use `.wait` method instead of `time.sleep`, since the latter pauses the entire program (including the streaming tasks running in the background)."
   ]
  },
  {
   "cell_type": "code",
   "execution_count": null,
   "metadata": {},
   "outputs": [],
   "source": [
    "streamer.start_streaming(variables=[\"pot2\"])\n",
    "streamer.plot_data(x_var=\"pot2\", y_vars=[\"pot2\"], y_range=[0, 1])\n",
    "streamer.wait(10)\n",
    "streamer.stop_streaming()"
   ]
  },
  {
   "cell_type": "markdown",
   "metadata": {},
   "source": [
    "### Scheduling streaming sessions\n",
    "You can schedule a streaming session to start and stop at a specific time using the `schedule_streaming()` method. This method takes the same arguments as `start_streaming()`, but it also takes a `timestamps` and `durations` argument."
   ]
  },
  {
   "cell_type": "code",
   "execution_count": null,
   "metadata": {},
   "outputs": [],
   "source": [
    "latest_timestamp = streamer.get_latest_timestamp() # get the latest timestamp\n",
    "sample_rate = streamer.sample_rate # get the sample rate\n",
    "start_timestamp = latest_timestamp + sample_rate # start streaming 1 second after the latest timestamp\n",
    "duration = sample_rate # stream for 2 seconds\n",
    "\n",
    "streamer.schedule_streaming(\n",
    "    variables=[\"pot1\", \"pot2\"],\n",
    "    timestamps=[start_timestamp, start_timestamp],\n",
    "    durations=[duration, duration],\n",
    "    saving_enabled=True)"
   ]
  },
  {
   "cell_type": "markdown",
   "metadata": {},
   "source": [
    "### Note on streaming variables assigned at low frequency rates\n",
    "The data buffers sent from Bela have fixed sizes. The buffers will only be sent when they are full, unless you use the streaming with scheduling feature (explained below). If the variables you are streaming are assigned at too low rates, these buffers will take too long to fill up and the data will be either sent to python with a delay or not sent at all (if the buffer is never filled). For example, floats using dense timestamping are sent in buffers of 1024 values. If the float variable is assigned once every 12 milliseconds, filling a buffer will take 1024/(1/0.012) = 12.3 seconds. \n",
    "Hence, the streaming mode is not ideal for variables assigned at low rates, but rather for variables that are assigned quite frequently (e.g. at audio rate). If you want to stream variables that are assigned at lower rates, you can use the streaming with scheduling feature, or monitor or log the variable instead."
   ]
  },
  {
   "cell_type": "markdown",
   "metadata": {},
   "source": [
    "### Retrieving the data\n",
    "You can access the data streamed in `streamer.streaming_buffers_data`. We can use the pandas data manipulation library for printing the data onto a table:"
   ]
  },
  {
   "cell_type": "code",
   "execution_count": null,
   "metadata": {},
   "outputs": [],
   "source": [
    "df = pd.DataFrame(streamer.streaming_buffers_data[\"pot2\"])\n",
    "df.head() # head shows only the first 5 rows"
   ]
  },
  {
   "cell_type": "markdown",
   "metadata": {},
   "source": [
    "As you can see, `streaming_buffers_data` only retrieves the variable values but not its timestamps. If you want to retrieve the timestamps, you can access `streaming_buffers_queue[\"pot2\"]`. This will return a list in which every item is a timestamped buffer:"
   ]
  },
  {
   "cell_type": "code",
   "execution_count": null,
   "metadata": {},
   "outputs": [],
   "source": [
    "streamer.streaming_buffers_queue[\"pot2\"][0]"
   ]
  },
  {
   "cell_type": "markdown",
   "metadata": {},
   "source": [
    "In the buffer `ref_timestamp` corresponds to the timestamp of the first value of the buffer (`streaming_buffers_queue[\"pot2\"][0][\"data\"][0]`). If the Bela Watcher is ticked once per analog frame (as it is the case in the `potentiometer` code) and the variable `pot2` is assigned also once per analog frame, the timestamps of the rest of the values in the data buffer correspond to the increasing timestamps:"
   ]
  },
  {
   "cell_type": "code",
   "execution_count": null,
   "metadata": {},
   "outputs": [],
   "source": [
    "data_timestamps = []\n",
    "data_values = []\n",
    "\n",
    "def flatten_buffers_queue(_buffer_queue):\n",
    "    for _buffer in _buffer_queue:\n",
    "        ref_timestamp = _buffer[\"ref_timestamp\"]\n",
    "        data_timestamps.extend([ref_timestamp + i for i in range(len(_buffer[\"data\"]))])\n",
    "        data_values.extend(_buffer[\"data\"])\n",
    "    \n",
    "    return data_timestamps, data_values\n",
    "\n",
    "data_timestamps, data_values = flatten_buffers_queue(streamer.streaming_buffers_queue[\"pot2\"])\n",
    "    \n",
    "df = pd.DataFrame({\"timestamp\": data_timestamps, \"value\": data_values})\n",
    "df.head()"
   ]
  },
  {
   "cell_type": "markdown",
   "metadata": {},
   "source": [
    "More advanced timestamping methods will be shown in the tutorial notebook `7_Sparse_timestamping.ipynb`\n",
    "\n",
    "There is a limited amount of data that is stored in the streamer. This quantity can be modified by changing the buffer queue length. The streamer receives the data in buffers of fixed length that get stored in a queue that also has a fixed length. You can calculate the maximum amount of data the streamer can store for each variable:\n",
    "\n",
    "note: `streamer.watcher_vars` returns information of the variables available in the watcher, that is, variables that have been defined within the Watcher class in the Bela code and that are available for streaming, monitoring or logging."
   ]
  },
  {
   "cell_type": "code",
   "execution_count": null,
   "metadata": {},
   "outputs": [],
   "source": [
    "print(f\"Buffer queue length: {streamer.streaming_buffers_queue_length}\")\n",
    "\n",
    "for var in streamer.watcher_vars: \n",
    "    print(f'Variable: {var[\"name\"]}, buffer length: {var[\"data_length\"]}, max data stored in streamer: {var[\"data_length\"]*streamer.streaming_buffers_queue_length}')"
   ]
  },
  {
   "cell_type": "markdown",
   "metadata": {},
   "source": [
    "You can also modify the queue length:"
   ]
  },
  {
   "cell_type": "code",
   "execution_count": null,
   "metadata": {},
   "outputs": [],
   "source": [
    "streamer.streaming_buffers_queue_length = 10"
   ]
  },
  {
   "cell_type": "markdown",
   "metadata": {},
   "source": [
    "### Saving the streamed data\n",
    "Every time you start a new streaming session (e.g. you call `start_streaming()` or `stream_n_values()`), the data stored in the streamer from the previous streaming session will be deleted. If you want to store the streamed data, you can do so by setting `saving_enabled=True` when calling `start_streaming()` or `stream_n_values()`:"
   ]
  },
  {
   "cell_type": "code",
   "execution_count": null,
   "metadata": {},
   "outputs": [],
   "source": [
    "streamer.start_streaming(variables=[var[\"name\"] for var in streamer.watcher_vars], saving_enabled=True, saving_filename=\"test.txt\")\n",
    "streamer.wait(3)\n",
    "streamer.stop_streaming()"
   ]
  },
  {
   "cell_type": "markdown",
   "metadata": {},
   "source": [
    "You can load the data stored using the `load_data_from_file` method. This will return the buffers queue. Again, we can flatten it using the `flatten_buffers_queue()` function we defined above:"
   ]
  },
  {
   "cell_type": "code",
   "execution_count": null,
   "metadata": {},
   "outputs": [],
   "source": [
    "data_timestamps, data_values = flatten_buffers_queue(streamer.load_data_from_file(\"pot1_test.txt\"))\n",
    "\n",
    "df=pd.DataFrame({\"timestamp\": data_timestamps, \"value\": data_values})\n",
    "df.head()"
   ]
  }
 ],
 "metadata": {
  "kernelspec": {
   "display_name": "pybela-2uXYSGIe",
   "language": "python",
   "name": "python3"
  },
  "language_info": {
   "codemirror_mode": {
    "name": "ipython",
    "version": 3
   },
   "file_extension": ".py",
   "mimetype": "text/x-python",
   "name": "python",
   "nbconvert_exporter": "python",
   "pygments_lexer": "ipython3",
   "version": "3.9.19"
  }
 },
 "nbformat": 4,
 "nbformat_minor": 4
}
