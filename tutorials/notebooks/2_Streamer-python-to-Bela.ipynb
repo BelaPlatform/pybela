{
  "cells": [
    {
      "cell_type": "markdown",
      "metadata": {},
      "source": [
        "# pybela Tutorial 2: Streamer – python to Bela\n",
        "This notebook is a tutorial for the Streamer class in the pybela python library. You can use the Streamer to stream data from Bela to python or viceversa. \n",
        "\n",
        "In this tutorial we will be looking at sending data from python to Bela. In this case, the routine is quite simple as the only available functionality is sending a buffer of a certain type and size (the `streamer.send_buffer()` method).\n",
        "\n",
        "To run this tutorial, first copy the `bela-code/python-to-bela` project onto Bela. If your Bela is connected to your laptop, you can run the cell below:"
      ]
    },
    {
      "cell_type": "code",
      "execution_count": null,
      "metadata": {},
      "outputs": [],
      "source": [
        "!rsync -rvL ../bela-code/python-to-bela root@bela.local:Bela/projects"
      ]
    },
    {
      "cell_type": "markdown",
      "metadata": {},
      "source": [
        "Then you can compile and run the project using either the IDE or by running the following command in the Terminal:\n",
        "```bash\n",
        "ssh root@bela.local \"make -C Bela stop Bela PROJECT=python-to-bela run\" \n",
        "```\n",
        "(Running this on a jupyter notebook will block the cell until the program is stopped on Bela.)"
      ]
    },
    {
      "cell_type": "markdown",
      "metadata": {},
      "source": [
        "..."
      ]
    }
  ],
  "metadata": {
    "kernelspec": {
      "display_name": "Python 3 (ipykernel)",
      "language": "python",
      "name": "python3"
    },
    "language_info": {
      "codemirror_mode": {
        "name": "ipython",
        "version": 3
      },
      "file_extension": ".py",
      "mimetype": "text/x-python",
      "name": "python",
      "nbconvert_exporter": "python",
      "pygments_lexer": "ipython3",
      "version": "3.9.16"
    }
  },
  "nbformat": 4,
  "nbformat_minor": 4
}
