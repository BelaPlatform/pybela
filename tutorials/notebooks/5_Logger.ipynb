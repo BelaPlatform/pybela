{
 "cells": [
  {
   "cell_type": "markdown",
   "metadata": {},
   "source": [
    "# pybela Tutorial 5: Logger\n",
    "This notebook is a tutorial for the Logger class in the pybela python library. As opposed to the Streamer, the Logger stores variable values directly in binary files in the Bela board. This is more reliable than streaming data with the Streamer with the saving mode enabled, which depends on the websocket connection. The Logger will store the data in Bela even if the websocket connection is lost, and you can retrieve the data later. \n",
    "\n",
    "The complete documentation for the pybela library can be found in [https://belaplatform.github.io/pybela/](https://belaplatform.github.io/pybela/).\n",
    "\n",
    "As with the previous tutorials, you will need to run the `potentiometers` project in Bela. If you haven't done it yet, copy the project onto Bela:"
   ]
  },
  {
   "cell_type": "code",
   "execution_count": null,
   "metadata": {},
   "outputs": [],
   "source": [
    "!rsync -rvL ../bela-code/potentiometers root@bela.local:Bela/projects"
   ]
  },
  {
   "cell_type": "markdown",
   "metadata": {},
   "source": [
    "And compile and run the project using either the IDE or by running the following command in the Terminal:\n",
    "```bash\n",
    "ssh root@bela.local \"make -C Bela stop Bela PROJECT=potentiometers run\" \n",
    "```\n",
    "(Running this on a jupyter notebook will block the cell until the program is stopped on Bela.)"
   ]
  },
  {
   "cell_type": "markdown",
   "metadata": {},
   "source": [
    "You will need to connect the two potentiometers to the Bela analog inputs 0 and 1 (a schematic can be found in the `1_Streamer.ipynb` tutorial). \n",
    "\n",
    "Run the cells below to connect to the Logger to Bela and start logging data:"
   ]
  },
  {
   "cell_type": "code",
   "execution_count": null,
   "metadata": {},
   "outputs": [],
   "source": [
    "import os\n",
    "import pandas as pd\n",
    "from pybela import Logger"
   ]
  },
  {
   "cell_type": "code",
   "execution_count": null,
   "metadata": {},
   "outputs": [],
   "source": [
    "logger = Logger()\n",
    "logger.connect()"
   ]
  },
  {
   "cell_type": "markdown",
   "metadata": {},
   "source": [
    "### Logging files with automatic transfer\n",
    "\n",
    "Similarly to the Streamer and the Monitor, we can start and stop a logging session with `start_logging()` and `stop_logging`, and use asyncio to time the logging session:"
   ]
  },
  {
   "cell_type": "code",
   "execution_count": null,
   "metadata": {},
   "outputs": [],
   "source": [
    "file_paths = logger.start_logging(\n",
    "    variables=[\"pot1\", \"pot2\"])\n",
    "logger.wait(0.5)\n",
    "logger.stop_logging()"
   ]
  },
  {
   "cell_type": "markdown",
   "metadata": {},
   "source": [
    "### Loading the data from the binary file\n",
    "The Logger automatically transfers the files from Bela to the computer whilst the logging session is happening. This avoids long waiting times at the end of the session. \n",
    "\n",
    "`start_logging()` returns `file_paths`, a dictionary containing the paths in Bela of the files generated and the local paths (in this computer) to which the files are copied. You can use these paths to automate the processing of the data:"
   ]
  },
  {
   "cell_type": "code",
   "execution_count": null,
   "metadata": {},
   "outputs": [],
   "source": [
    "data = {}\n",
    "for var in [\"pot1\", \"pot2\"]:\n",
    "    data[var] = logger.read_binary_file(\n",
    "        file_path=file_paths[\"local_paths\"][var], timestamp_mode=logger.get_prop_of_var(var, \"timestamp_mode\"))"
   ]
  },
  {
   "cell_type": "markdown",
   "metadata": {},
   "source": [
    "You might notice that the last buffer of each variable have 0.0 values at the end. This is because the buffers send by Bela to the Logger have a fixed size, and the last buffer might not be completely filled, so the remaining values are filled with 0.0. "
   ]
  },
  {
   "cell_type": "code",
   "execution_count": null,
   "metadata": {},
   "outputs": [],
   "source": [
    "data[\"pot1\"][\"buffers\"][-1]"
   ]
  },
  {
   "cell_type": "markdown",
   "metadata": {},
   "source": [
    "You can also flatten the buffers using:"
   ]
  },
  {
   "cell_type": "code",
   "execution_count": null,
   "metadata": {},
   "outputs": [],
   "source": [
    "flatten_data = {}\n",
    "for var in [\"pot1\", \"pot2\"]:\n",
    "    flatten_data[var] = {\"timestamps\": [], \"data\": []}\n",
    "    for _buffer in data[var][\"buffers\"]:\n",
    "        flatten_data[var][\"timestamps\"].extend([_buffer[\"ref_timestamp\"] + i for i in range(len(_buffer[\"data\"]))])\n",
    "        flatten_data[var][\"data\"].extend(_buffer[\"data\"])\n",
    "    \n",
    "df = pd.DataFrame(flatten_data[\"pot1\"])\n",
    "df.head()"
   ]
  },
  {
   "cell_type": "markdown",
   "metadata": {},
   "source": [
    "Whilst the Logger by default transfers the binary files to Bela, the files are not removed from Bela. You can remove the files from Bela with `delete_file_from_bela()`:"
   ]
  },
  {
   "cell_type": "code",
   "execution_count": null,
   "metadata": {},
   "outputs": [],
   "source": [
    "for file in file_paths[\"remote_paths\"].values():\n",
    "    logger.delete_file_from_bela(file, verbose=True)"
   ]
  },
  {
   "cell_type": "markdown",
   "metadata": {},
   "source": [
    "### Scheduling logging sessions\n",
    "You can schedule a logging session to start and stop at a specific time using the `schedule_logging()` method. This method takes the same arguments as `start_logging()`, but it also takes a `timestamps` and `durations` argument."
   ]
  },
  {
   "cell_type": "code",
   "execution_count": null,
   "metadata": {},
   "outputs": [],
   "source": [
    "latest_timestamp = logger.get_latest_timestamp() # get the latest timestamp\n",
    "sample_rate = logger.sample_rate # get the sample rate\n",
    "start_timestamp = latest_timestamp + sample_rate # start logging 1 second after the latest timestamp\n",
    "duration = sample_rate * 2 # log for 2 seconds\n",
    "\n",
    "file_paths = logger.schedule_logging(\n",
    "    variables=[\"pot1\", \"pot2\"],\n",
    "    timestamps=[start_timestamp, start_timestamp],\n",
    "    durations=[duration, duration], \n",
    "    transfer=True, \n",
    "    logging_dir=\"./\")\n"
   ]
  },
  {
   "cell_type": "markdown",
   "metadata": {},
   "source": [
    "### Logging files without automatic transfer\n",
    "\n",
    "Alternatively, you can set `transfer=False` in `start_logging()` and transfer the files manually with `copy_file_from_bela()`:"
   ]
  },
  {
   "cell_type": "code",
   "execution_count": null,
   "metadata": {},
   "outputs": [],
   "source": [
    "file_paths =  logger.start_logging(\n",
    "    variables= [\"pot1\", \"pot2\"], transfer=False)\n",
    "logger.wait(0.5)\n",
    "logger.stop_logging()\n",
    "\n",
    "file_paths"
   ]
  },
  {
   "cell_type": "markdown",
   "metadata": {},
   "source": [
    "Note that the dict in `local_paths` is empty: since we disabled the automatic transfer, no local paths have been assigned. We can now copy the files using `copy_file_from_bela()`:"
   ]
  },
  {
   "cell_type": "code",
   "execution_count": null,
   "metadata": {},
   "outputs": [],
   "source": [
    "for var in [\"pot1\", \"pot2\"]:\n",
    "    logger.copy_file_from_bela(remote_path=file_paths[\"remote_paths\"][var], local_path=os.path.basename(file_paths[\"remote_paths\"][var]))"
   ]
  },
  {
   "cell_type": "markdown",
   "metadata": {},
   "source": [
    "You might end up with a few `.bin` files in Bela. You can either remove them one by one with `delete_file_from_bela()` as explained above, or remove all `.bin` files in the Bela project with `delete_all_bin_files_in_project()``"
   ]
  },
  {
   "cell_type": "code",
   "execution_count": null,
   "metadata": {},
   "outputs": [],
   "source": [
    "logger.delete_all_bin_files_in_project()"
   ]
  }
 ],
 "metadata": {
  "kernelspec": {
   "display_name": "pybela-2uXYSGIe",
   "language": "python",
   "name": "python3"
  },
  "language_info": {
   "codemirror_mode": {
    "name": "ipython",
    "version": 3
   },
   "file_extension": ".py",
   "mimetype": "text/x-python",
   "name": "python",
   "nbconvert_exporter": "python",
   "pygments_lexer": "ipython3",
   "version": "3.9.19"
  },
  "orig_nbformat": 4
 },
 "nbformat": 4,
 "nbformat_minor": 2
}
