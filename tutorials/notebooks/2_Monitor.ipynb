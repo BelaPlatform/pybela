{
 "cells": [
  {
   "cell_type": "markdown",
   "metadata": {},
   "source": [
    "# pyBela tutorial 2: Monitor\n",
    "This tutorial expects the `potentiometers` project to be running on Bela. If the Bela is connected to your laptop, you can run the cell below to copy the `potentiometers` code onto your Bela and run it:"
   ]
  },
  {
   "cell_type": "code",
   "execution_count": null,
   "metadata": {},
   "outputs": [],
   "source": [
    "!scp -r ../bela-code/potentiometers root@bela.local:Bela/projects\n",
    "!ssh root@bela.local \"make -C Bela stop Bela PROJECT=potentiometers run\""
   ]
  },
  {
   "cell_type": "markdown",
   "metadata": {},
   "source": [
    "You will also need to connect two potentiometers to Bela analog inputs 0 and 1. Instructions on how to do so and some details on the Bela code are given in the notebook `1_Streamer.ipynb`.\n",
    "\n",
    "This notebook is a tutorial for the Monitor class in the pyBela python library. The monitor allows you to \"take a look\" at variables in your Bela code. By taking a look we mean either requesting a single value (*what value does `pot1` have right now?*) or sampling the value of a variable, that is, getting a value every number of frames (*can you tell me the value of `pot1` every 1000 frames?*). The monitor can be useful to calibrate sensors or, in general, debug your Bela code. \n",
    "\n",
    "The Monitor class inherits from the Streamer, so you can use it in a similar way, with the only difference that you will need to specify a monitoring period. Let's take a look at an example:"
   ]
  },
  {
   "cell_type": "code",
   "execution_count": 2,
   "metadata": {},
   "outputs": [],
   "source": [
    "import asyncio\n",
    "import os\n",
    "import pandas as pd\n",
    "from pyBela import Monitor\n",
    "\n",
    "# this environment variable allows displaying the bokeh plots. If you are in vscode, you need to set this to the vscode port:\n",
    "os.environ[\"BOKEH_ALLOW_WS_ORIGIN\"] =\"1t4j54lsdj67h02ol8hionopt4k7b7ngd9483l5q5pagr3j2droq\" \n",
    "# alternatively, you can set it to the jupyter notebook port:\n",
    "# os.environ[\"BOKEH_ALLOW_WS_ORIGIN\"]=\"127.0.0.1:8888\" # if in jupyter notebook -- replace with the port number of your notebook"
   ]
  },
  {
   "cell_type": "markdown",
   "metadata": {},
   "source": [
    "As with the streamer, we need to instantiate the Monitor class and run the `connect()` method to establish the websocket connection with Bela. If the connection fails, make sure Bela is plugged in to your laptop and that the `potentiometer` project is running on Bela. "
   ]
  },
  {
   "cell_type": "code",
   "execution_count": 3,
   "metadata": {},
   "outputs": [
    {
     "data": {
      "text/plain": [
       "'Connection successful'"
      ]
     },
     "execution_count": 3,
     "metadata": {},
     "output_type": "execute_result"
    }
   ],
   "source": [
    "monitor = Monitor()\n",
    "monitor.connect()"
   ]
  },
  {
   "cell_type": "markdown",
   "metadata": {},
   "source": [
    "### Using asyncio to monitor data for a fixed amount of time\n",
    "\n",
    "The monitor works in a very similar way to the Streamer but with a key difference: it doesn't continuously stream the values of the variables. Instead, it samples and streams these values periodically based on the given period. In this example, we will be monitoring two variables, `pot1` and `pot2` with a period 1000. \n",
    "\n",
    "As with the Streamer example, we can use asyncio to time the monitoring session:"
   ]
  },
  {
   "cell_type": "code",
   "execution_count": 4,
   "metadata": {},
   "outputs": [
    {
     "name": "stdout",
     "output_type": "stream",
     "text": [
      "Started monitoring variables ['pot1', 'pot2']... Run stop_monitoring() to stop monitoring.\n",
      "Stopped monitoring variables ['pot1', 'pot2']...\n"
     ]
    }
   ],
   "source": [
    "monitor.start_monitoring(variables= [\"pot1\", \"pot2\"], \n",
    "                         periods= [1000,2000])\n",
    "await asyncio.sleep(2)\n",
    "monitored_values = monitor.stop_monitoring()"
   ]
  },
  {
   "cell_type": "markdown",
   "metadata": {},
   "source": [
    "### Retrieving the data\n",
    "\n",
    "`stop_monitoring` returns a dictionary with the monitored values and its timestamps. You can also access this data in `monitor.values`. Note that the timestamps are spaced by the period as we requested."
   ]
  },
  {
   "cell_type": "code",
   "execution_count": 5,
   "metadata": {},
   "outputs": [
    {
     "data": {
      "text/html": [
       "<div>\n",
       "<style scoped>\n",
       "    .dataframe tbody tr th:only-of-type {\n",
       "        vertical-align: middle;\n",
       "    }\n",
       "\n",
       "    .dataframe tbody tr th {\n",
       "        vertical-align: top;\n",
       "    }\n",
       "\n",
       "    .dataframe thead th {\n",
       "        text-align: right;\n",
       "    }\n",
       "</style>\n",
       "<table border=\"1\" class=\"dataframe\">\n",
       "  <thead>\n",
       "    <tr style=\"text-align: right;\">\n",
       "      <th></th>\n",
       "      <th>timestamps</th>\n",
       "      <th>values</th>\n",
       "    </tr>\n",
       "  </thead>\n",
       "  <tbody>\n",
       "    <tr>\n",
       "      <th>0</th>\n",
       "      <td>837152</td>\n",
       "      <td>0.451065</td>\n",
       "    </tr>\n",
       "    <tr>\n",
       "      <th>1</th>\n",
       "      <td>838152</td>\n",
       "      <td>0.451050</td>\n",
       "    </tr>\n",
       "    <tr>\n",
       "      <th>2</th>\n",
       "      <td>839152</td>\n",
       "      <td>0.451080</td>\n",
       "    </tr>\n",
       "    <tr>\n",
       "      <th>3</th>\n",
       "      <td>840152</td>\n",
       "      <td>0.451019</td>\n",
       "    </tr>\n",
       "    <tr>\n",
       "      <th>4</th>\n",
       "      <td>841152</td>\n",
       "      <td>0.451096</td>\n",
       "    </tr>\n",
       "  </tbody>\n",
       "</table>\n",
       "</div>"
      ],
      "text/plain": [
       "   timestamps    values\n",
       "0      837152  0.451065\n",
       "1      838152  0.451050\n",
       "2      839152  0.451080\n",
       "3      840152  0.451019\n",
       "4      841152  0.451096"
      ]
     },
     "execution_count": 5,
     "metadata": {},
     "output_type": "execute_result"
    }
   ],
   "source": [
    "df = pd.DataFrame(monitored_values[\"pot1\"])\n",
    "df.head()\n"
   ]
  },
  {
   "cell_type": "code",
   "execution_count": 6,
   "metadata": {},
   "outputs": [
    {
     "data": {
      "text/html": [
       "<div>\n",
       "<style scoped>\n",
       "    .dataframe tbody tr th:only-of-type {\n",
       "        vertical-align: middle;\n",
       "    }\n",
       "\n",
       "    .dataframe tbody tr th {\n",
       "        vertical-align: top;\n",
       "    }\n",
       "\n",
       "    .dataframe thead th {\n",
       "        text-align: right;\n",
       "    }\n",
       "</style>\n",
       "<table border=\"1\" class=\"dataframe\">\n",
       "  <thead>\n",
       "    <tr style=\"text-align: right;\">\n",
       "      <th></th>\n",
       "      <th>timestamps</th>\n",
       "      <th>values</th>\n",
       "    </tr>\n",
       "  </thead>\n",
       "  <tbody>\n",
       "    <tr>\n",
       "      <th>0</th>\n",
       "      <td>837152</td>\n",
       "      <td>0.493271</td>\n",
       "    </tr>\n",
       "    <tr>\n",
       "      <th>1</th>\n",
       "      <td>839152</td>\n",
       "      <td>0.493286</td>\n",
       "    </tr>\n",
       "    <tr>\n",
       "      <th>2</th>\n",
       "      <td>841152</td>\n",
       "      <td>0.493179</td>\n",
       "    </tr>\n",
       "    <tr>\n",
       "      <th>3</th>\n",
       "      <td>843152</td>\n",
       "      <td>0.493225</td>\n",
       "    </tr>\n",
       "    <tr>\n",
       "      <th>4</th>\n",
       "      <td>845152</td>\n",
       "      <td>0.493256</td>\n",
       "    </tr>\n",
       "  </tbody>\n",
       "</table>\n",
       "</div>"
      ],
      "text/plain": [
       "   timestamps    values\n",
       "0      837152  0.493271\n",
       "1      839152  0.493286\n",
       "2      841152  0.493179\n",
       "3      843152  0.493225\n",
       "4      845152  0.493256"
      ]
     },
     "execution_count": 6,
     "metadata": {},
     "output_type": "execute_result"
    }
   ],
   "source": [
    "df = pd.DataFrame(monitored_values[\"pot2\"])\n",
    "df.head()"
   ]
  },
  {
   "cell_type": "markdown",
   "metadata": {},
   "source": [
    "A note regarding the periods: in this example, the returned timestamps correspond to the analog frames elapsed in the Bela code. Let's take a look at the `render` loop in the `potentiometers` Bela project:\n",
    "\n",
    "```cpp\n",
    "void render(BelaContext *context, void *userData)\n",
    "{\n",
    "\tfor(unsigned int n = 0; n < context->audioFrames; n++) {\n",
    "\t\tif(gAudioFramesPerAnalogFrame && !(n % gAudioFramesPerAnalogFrame)) {\n",
    "\t\t\t\n",
    "\t\t\tuint64_t frames = context->audioFramesElapsed/gAudioFramesPerAnalogFrame + n/gAudioFramesPerAnalogFrame;\n",
    "\t\t\tBela_getDefaultWatcherManager()->tick(frames); // watcher timestamps\n",
    "\t\t\t\n",
    "\t\t\tpot1 = analogRead(context,  n/gAudioFramesPerAnalogFrame, gPot1Ch);\n",
    "\t\t\tpot2 = analogRead(context,  n/gAudioFramesPerAnalogFrame, gPot2Ch);\n",
    "\t\t\t\n",
    "\t\t}\n",
    "\t}\n",
    "}\n",
    "```\n",
    "\n",
    "AS you can see, we are \"ticking\" the Bela watcher once per every analog frame. When we request variable `pot1` with a period 1000, we will be getting the value of `pot1` every 1000 analog frames. For more advanced timestamping methods, you can check the `4_Sparse_timestamping.ipynb` notebook."
   ]
  },
  {
   "cell_type": "markdown",
   "metadata": {},
   "source": [
    "### Monitoring a fixed number of values\n",
    "Alternatively, you can ask the monitor to monitor a variable for a fixed number of values. Another difference between the Streamer and the Monitor is that the Monitor will monitor exactly `n_values`. This is because in the monitor, the data buffers sent by Bela have only one timestamped value each, whilst in the Streamer, the buffers have a larger number of data points (which depends on the timestamping method and the data type). Let's see an example:"
   ]
  },
  {
   "cell_type": "code",
   "execution_count": 8,
   "metadata": {},
   "outputs": [
    {
     "name": "stdout",
     "output_type": "stream",
     "text": [
      "Monitoring 10 values for variables ['pot1', 'pot2'] with periods [1000, 2000]...\n",
      "Stopped monitoring variables ['pot1', 'pot2']...\n"
     ]
    }
   ],
   "source": [
    "monitored_data = monitor.monitor_n_values(variables= [\"pot1\", \"pot2\"],\n",
    "                         periods= [1000,2000],\n",
    "                         n_values= 10)"
   ]
  },
  {
   "cell_type": "markdown",
   "metadata": {},
   "source": [
    "We can check that even when the periods for `pot1` and `pot2` where different, we monitored exactly 10 values for each:"
   ]
  },
  {
   "cell_type": "code",
   "execution_count": 21,
   "metadata": {},
   "outputs": [
    {
     "name": "stdout",
     "output_type": "stream",
     "text": [
      "Monitored values for pot1: 10\n",
      "Monitored values for pot2: 10\n"
     ]
    }
   ],
   "source": [
    "for var in [\"pot1\", \"pot2\"]:\n",
    "    print(f\"Monitored values for {var}: {len(monitored_data[var])}\")"
   ]
  },
  {
   "cell_type": "code",
   "execution_count": 9,
   "metadata": {},
   "outputs": [
    {
     "data": {
      "text/html": [
       "<div>\n",
       "<style scoped>\n",
       "    .dataframe tbody tr th:only-of-type {\n",
       "        vertical-align: middle;\n",
       "    }\n",
       "\n",
       "    .dataframe tbody tr th {\n",
       "        vertical-align: top;\n",
       "    }\n",
       "\n",
       "    .dataframe thead th {\n",
       "        text-align: right;\n",
       "    }\n",
       "</style>\n",
       "<table border=\"1\" class=\"dataframe\">\n",
       "  <thead>\n",
       "    <tr style=\"text-align: right;\">\n",
       "      <th></th>\n",
       "      <th>timestamps</th>\n",
       "      <th>values</th>\n",
       "    </tr>\n",
       "  </thead>\n",
       "  <tbody>\n",
       "    <tr>\n",
       "      <th>0</th>\n",
       "      <td>1269744</td>\n",
       "      <td>0.451141</td>\n",
       "    </tr>\n",
       "    <tr>\n",
       "      <th>1</th>\n",
       "      <td>1270744</td>\n",
       "      <td>0.451096</td>\n",
       "    </tr>\n",
       "    <tr>\n",
       "      <th>2</th>\n",
       "      <td>1271744</td>\n",
       "      <td>0.450974</td>\n",
       "    </tr>\n",
       "    <tr>\n",
       "      <th>3</th>\n",
       "      <td>1272744</td>\n",
       "      <td>0.450974</td>\n",
       "    </tr>\n",
       "    <tr>\n",
       "      <th>4</th>\n",
       "      <td>1273744</td>\n",
       "      <td>0.451080</td>\n",
       "    </tr>\n",
       "  </tbody>\n",
       "</table>\n",
       "</div>"
      ],
      "text/plain": [
       "   timestamps    values\n",
       "0     1269744  0.451141\n",
       "1     1270744  0.451096\n",
       "2     1271744  0.450974\n",
       "3     1272744  0.450974\n",
       "4     1273744  0.451080"
      ]
     },
     "execution_count": 9,
     "metadata": {},
     "output_type": "execute_result"
    }
   ],
   "source": [
    "df = pd.DataFrame(monitor.values[\"pot1\"])\n",
    "\n",
    "df.head()"
   ]
  },
  {
   "cell_type": "code",
   "execution_count": 10,
   "metadata": {},
   "outputs": [
    {
     "data": {
      "text/html": [
       "<div>\n",
       "<style scoped>\n",
       "    .dataframe tbody tr th:only-of-type {\n",
       "        vertical-align: middle;\n",
       "    }\n",
       "\n",
       "    .dataframe tbody tr th {\n",
       "        vertical-align: top;\n",
       "    }\n",
       "\n",
       "    .dataframe thead th {\n",
       "        text-align: right;\n",
       "    }\n",
       "</style>\n",
       "<table border=\"1\" class=\"dataframe\">\n",
       "  <thead>\n",
       "    <tr style=\"text-align: right;\">\n",
       "      <th></th>\n",
       "      <th>timestamps</th>\n",
       "      <th>values</th>\n",
       "    </tr>\n",
       "  </thead>\n",
       "  <tbody>\n",
       "    <tr>\n",
       "      <th>0</th>\n",
       "      <td>1260840</td>\n",
       "      <td>0.493332</td>\n",
       "    </tr>\n",
       "    <tr>\n",
       "      <th>1</th>\n",
       "      <td>1262840</td>\n",
       "      <td>0.493393</td>\n",
       "    </tr>\n",
       "    <tr>\n",
       "      <th>2</th>\n",
       "      <td>1264840</td>\n",
       "      <td>0.493256</td>\n",
       "    </tr>\n",
       "    <tr>\n",
       "      <th>3</th>\n",
       "      <td>1266840</td>\n",
       "      <td>0.493225</td>\n",
       "    </tr>\n",
       "    <tr>\n",
       "      <th>4</th>\n",
       "      <td>1268840</td>\n",
       "      <td>0.493271</td>\n",
       "    </tr>\n",
       "  </tbody>\n",
       "</table>\n",
       "</div>"
      ],
      "text/plain": [
       "   timestamps    values\n",
       "0     1260840  0.493332\n",
       "1     1262840  0.493393\n",
       "2     1264840  0.493256\n",
       "3     1266840  0.493225\n",
       "4     1268840  0.493271"
      ]
     },
     "execution_count": 10,
     "metadata": {},
     "output_type": "execute_result"
    }
   ],
   "source": [
    "df = pd.DataFrame(monitor.values[\"pot2\"])\n",
    "\n",
    "df.head()"
   ]
  },
  {
   "cell_type": "markdown",
   "metadata": {},
   "source": [
    "### Saving monitored data\n",
    "You can also store the monitored values by passing `saving_enabled=True`  to either `start_monitoring()` or `monitor_n_values()`. "
   ]
  },
  {
   "cell_type": "code",
   "execution_count": 11,
   "metadata": {},
   "outputs": [
    {
     "name": "stdout",
     "output_type": "stream",
     "text": [
      "Started monitoring variables ['pot1', 'pot2']... Run stop_monitoring() to stop monitoring.\n",
      "Stopped monitoring variables ['pot1', 'pot2']...\n"
     ]
    },
    {
     "data": {
      "text/plain": [
       "{'pot1': {'timestamps': [1508840,\n",
       "   1509440,\n",
       "   1510040,\n",
       "   1510640,\n",
       "   1511240,\n",
       "   1511840,\n",
       "   1512440,\n",
       "   1513040,\n",
       "   1513640,\n",
       "   1514240],\n",
       "  'values': [0.4510498046875,\n",
       "   0.4511260986328125,\n",
       "   0.451141357421875,\n",
       "   0.4510955810546875,\n",
       "   0.4511566162109375,\n",
       "   0.4510040283203125,\n",
       "   0.451141357421875,\n",
       "   0.4510040283203125,\n",
       "   0.45123291015625,\n",
       "   0.451080322265625]},\n",
       " 'pot2': {'timestamps': [1496640,\n",
       "   1498640,\n",
       "   1500640,\n",
       "   1502640,\n",
       "   1504640,\n",
       "   1506640,\n",
       "   1508640,\n",
       "   1510640,\n",
       "   1512640,\n",
       "   1514640],\n",
       "  'values': [0.493255615234375,\n",
       "   0.4932098388671875,\n",
       "   0.4933319091796875,\n",
       "   0.4932403564453125,\n",
       "   0.4932708740234375,\n",
       "   0.4932098388671875,\n",
       "   0.49322509765625,\n",
       "   0.4932708740234375,\n",
       "   0.4933319091796875,\n",
       "   0.4932403564453125]}}"
      ]
     },
     "execution_count": 11,
     "metadata": {},
     "output_type": "execute_result"
    }
   ],
   "source": [
    "monitor.start_monitoring(variables= [\"pot1\", \"pot2\"],periods= [600,2000], saving_enabled=True)\n",
    "await asyncio.sleep(1)\n",
    "monitor.stop_monitoring()"
   ]
  },
  {
   "cell_type": "markdown",
   "metadata": {},
   "source": [
    "You can load the data using `load_data_from_file()`:"
   ]
  },
  {
   "cell_type": "code",
   "execution_count": 12,
   "metadata": {},
   "outputs": [
    {
     "data": {
      "text/html": [
       "<div>\n",
       "<style scoped>\n",
       "    .dataframe tbody tr th:only-of-type {\n",
       "        vertical-align: middle;\n",
       "    }\n",
       "\n",
       "    .dataframe tbody tr th {\n",
       "        vertical-align: top;\n",
       "    }\n",
       "\n",
       "    .dataframe thead th {\n",
       "        text-align: right;\n",
       "    }\n",
       "</style>\n",
       "<table border=\"1\" class=\"dataframe\">\n",
       "  <thead>\n",
       "    <tr style=\"text-align: right;\">\n",
       "      <th></th>\n",
       "      <th>timestamps</th>\n",
       "      <th>values</th>\n",
       "    </tr>\n",
       "  </thead>\n",
       "  <tbody>\n",
       "    <tr>\n",
       "      <th>0</th>\n",
       "      <td>1492640</td>\n",
       "      <td>0.450912</td>\n",
       "    </tr>\n",
       "    <tr>\n",
       "      <th>1</th>\n",
       "      <td>1493240</td>\n",
       "      <td>0.451080</td>\n",
       "    </tr>\n",
       "    <tr>\n",
       "      <th>2</th>\n",
       "      <td>1493840</td>\n",
       "      <td>0.451111</td>\n",
       "    </tr>\n",
       "    <tr>\n",
       "      <th>3</th>\n",
       "      <td>1494440</td>\n",
       "      <td>0.451019</td>\n",
       "    </tr>\n",
       "    <tr>\n",
       "      <th>4</th>\n",
       "      <td>1495040</td>\n",
       "      <td>0.451050</td>\n",
       "    </tr>\n",
       "  </tbody>\n",
       "</table>\n",
       "</div>"
      ],
      "text/plain": [
       "   timestamps    values\n",
       "0     1492640  0.450912\n",
       "1     1493240  0.451080\n",
       "2     1493840  0.451111\n",
       "3     1494440  0.451019\n",
       "4     1495040  0.451050"
      ]
     },
     "execution_count": 12,
     "metadata": {},
     "output_type": "execute_result"
    }
   ],
   "source": [
    "pot1_saved_data = monitor.load_data_from_file(\"pot1_monitor.txt\")\n",
    "\n",
    "df = pd.DataFrame(pot1_saved_data)\n",
    "df.head()"
   ]
  },
  {
   "cell_type": "markdown",
   "metadata": {},
   "source": [
    "### Peeking at variables\n",
    "You can also use the monitor to \"peek\" at variables, that is, requesting a single value."
   ]
  },
  {
   "cell_type": "code",
   "execution_count": 13,
   "metadata": {},
   "outputs": [
    {
     "name": "stdout",
     "output_type": "stream",
     "text": [
      "Peeking at variables ['pot1', 'pot2']...\n"
     ]
    },
    {
     "data": {
      "text/plain": [
       "{'timestamp': 2820200, 'value': 0.4510650634765625}"
      ]
     },
     "execution_count": 13,
     "metadata": {},
     "output_type": "execute_result"
    }
   ],
   "source": [
    "peeked_values = monitor.peek() # peeks at all the available variables (otherwise specify)\n",
    "peeked_values[\"pot1\"]"
   ]
  }
 ],
 "metadata": {
  "kernelspec": {
   "display_name": "pybela-irbKdG5b",
   "language": "python",
   "name": "python3"
  },
  "language_info": {
   "codemirror_mode": {
    "name": "ipython",
    "version": 3
   },
   "file_extension": ".py",
   "mimetype": "text/x-python",
   "name": "python",
   "nbconvert_exporter": "python",
   "pygments_lexer": "ipython3",
   "version": "3.10.8"
  },
  "orig_nbformat": 4
 },
 "nbformat": 4,
 "nbformat_minor": 2
}
