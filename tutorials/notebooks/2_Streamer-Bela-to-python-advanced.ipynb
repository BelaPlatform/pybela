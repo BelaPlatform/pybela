{
 "cells": [
  {
   "cell_type": "markdown",
   "metadata": {},
   "source": [
    "# pybela Tutorial 2: Streamer – Bela to python advanced\n",
    "This notebook is a tutorial for the Streamer class in the pybela python library. You can use the Streamer to stream data from Bela to python or vice versa. \n",
    "\n",
    "In this tutorial we will be looking at more advanced features to send data from Bela to python. \n",
    "\n",
    "The complete documentation for the pybela library can be found in [https://belaplatform.github.io/pybela/](https://belaplatform.github.io/pybela/).\n",
    "\n",
    "If you didn't do it in the previous tutorial, copy the `bela-code/potentiometers` project onto Bela. If your Bela is connected to your laptop, you can run the cell below:"
   ]
  },
  {
   "cell_type": "code",
   "execution_count": null,
   "metadata": {},
   "outputs": [],
   "source": [
    "!rsync -rvL ../bela-code/potentiometers root@bela.local:Bela/projects"
   ]
  },
  {
   "cell_type": "markdown",
   "metadata": {},
   "source": [
    "Then you can compile and run the project using either the IDE or by running the following command in the Terminal:\n",
    "```bash\n",
    "ssh root@bela.local \"make -C Bela stop Bela PROJECT=potentiometers run\" \n",
    "```\n",
    "(Running this on a jupyter notebook will block the cell until the program is stopped on Bela.) You will also need to connect two potentiometers to Bela analog inputs 0 and 1. Instructions on how to do so and some details on the Bela code are given in the notebook `1_Streamer-Bela-to-python-basics.ipynb`.\n",
    "\n",
    "First, we need to import the pybela library, create a Streamer object and connect to Bela."
   ]
  },
  {
   "cell_type": "code",
   "execution_count": null,
   "metadata": {},
   "outputs": [],
   "source": [
    "from pybela import Streamer\n",
    "\n",
    "streamer = Streamer()\n",
    "streamer.connect()\n",
    "\n",
    "variables = [\"pot1\", \"pot2\"]"
   ]
  },
  {
   "cell_type": "markdown",
   "metadata": {},
   "source": [
    "### Streaming a fixed number of values\n",
    "You can can use the method `stream_n_values` to stream a fixed number of values of a variable. "
   ]
  },
  {
   "cell_type": "code",
   "execution_count": null,
   "metadata": {},
   "outputs": [],
   "source": [
    "n_values = 1000\n",
    "streaming_buffer = streamer.stream_n_values(\n",
    "            variables= variables, n_values=n_values)"
   ]
  },
  {
   "cell_type": "markdown",
   "metadata": {},
   "source": [
    "Since the data buffers received from Bela have a fixed size, unless the number of values `n_values` is a multiple of the data buffers size, the streamer will always return a few more values than asked for."
   ]
  },
  {
   "cell_type": "code",
   "execution_count": null,
   "metadata": {},
   "outputs": [],
   "source": [
    "_vars = streamer.watcher_vars\n",
    "for var in _vars:\n",
    "    print(f'Variable: {var[\"name\"]}, buffer length: {var[\"data_length\"]}, number of streamed values: {len(streamer.streaming_buffers_data[var[\"name\"]])}')"
   ]
  },
  {
   "cell_type": "markdown",
   "metadata": {},
   "source": [
    "### Scheduling streaming sessions\n",
    "You can schedule a streaming session to start and stop at a specific time using the `schedule_streaming()` method. This method takes the same arguments as `start_streaming()`, but it also takes a `timestamps` and `durations` argument."
   ]
  },
  {
   "cell_type": "code",
   "execution_count": null,
   "metadata": {},
   "outputs": [],
   "source": [
    "latest_timestamp = streamer.get_latest_timestamp() # get the latest timestamp\n",
    "sample_rate = streamer.sample_rate # get the sample rate\n",
    "start_timestamp = latest_timestamp + sample_rate # start streaming 1 second after the latest timestamp\n",
    "duration = sample_rate # stream for 2 seconds\n",
    "\n",
    "streamer.schedule_streaming(\n",
    "    variables=variables,\n",
    "    timestamps=[start_timestamp, start_timestamp],\n",
    "    durations=[duration, duration],\n",
    "    saving_enabled=True)"
   ]
  },
  {
   "cell_type": "markdown",
   "metadata": {},
   "source": [
    "### On-buffer and on-block callbacks\n",
    "Up until now, we have been streaming data for a period of time and processed the data once the streaming has finished. However, you can also process the data as it is being received. You can do this by passing a callback function to the `on_buffer` or `on_block` arguments of the `start_streaming()` method. \n",
    "\n",
    "The `on_buffer` callback will be called every time a buffer is received from Bela. We will need to define a callback function that takes one argument, the buffer. The Streamer will call that function every time it receives a buffer. You can also pass variables to the callback function by using the `callback_args` argument of the `start_streaming()` method. Let's see an example:"
   ]
  },
  {
   "cell_type": "code",
   "execution_count": null,
   "metadata": {},
   "outputs": [],
   "source": [
    "timestamps = {var: [] for var in variables}\n",
    "buffers = {var: [] for var in variables}\n",
    "\n",
    "def callback(buffer, timestamps, buffers):\n",
    "    print(\"Buffer received\")\n",
    "    \n",
    "    _var = buffer[\"name\"]\n",
    "    timestamps[_var].append(\n",
    "        buffer[\"buffer\"][\"ref_timestamp\"])\n",
    "    buffers[_var].append(buffer[\"buffer\"][\"data\"])\n",
    "    \n",
    "    print(_var, timestamps[_var][-1])\n",
    "\n",
    "streamer.start_streaming(\n",
    "    variables, saving_enabled=False, on_buffer_callback=callback, callback_args=(timestamps, buffers))\n",
    "\n",
    "streamer.wait(2)\n",
    "\n",
    "streamer.stop_streaming()"
   ]
  },
  {
   "cell_type": "markdown",
   "metadata": {},
   "source": [
    "Let's now look at the `on_block`callback. We call block to a group of buffers. If you are streaming two variables, `pot1` and `pot2`, a block of buffers will contain a buffer for `pot1` and a buffer for `pot2`. If `pot1` and `pot2` have the same buffer size and they are being streamed at the same rate, `pot1` and `pot2` will be aligned in time. This is useful if you are streaming multiple variables and you want to process them together. \n",
    "\n",
    "The `on_block` callback will be called every time a block of buffers is received from Bela. We will need to define a callback function that takes one argument, the block. The Streamer will call that function every time it receives a block of buffers. Let's see an example:"
   ]
  },
  {
   "cell_type": "code",
   "execution_count": null,
   "metadata": {},
   "outputs": [],
   "source": [
    "timestamps = {var: [] for var in variables}\n",
    "buffers = {var: [] for var in variables}\n",
    "\n",
    "def callback(block, timestamps, buffers):\n",
    "    print(\"Block received\")\n",
    "    \n",
    "    for buffer in block:\n",
    "        var = buffer[\"name\"]\n",
    "        timestamps[var].append(buffer[\"buffer\"][\"ref_timestamp\"])\n",
    "        buffers[var].append(buffer[\"buffer\"][\"data\"])\n",
    "\n",
    "        print(var, timestamps[var][-1])\n",
    "        \n",
    "streamer.start_streaming(\n",
    "    variables, saving_enabled=False, on_block_callback=callback, callback_args=(timestamps, buffers))\n",
    "\n",
    "streamer.wait(2)\n",
    "\n",
    "streamer.stop_streaming()"
   ]
  }
 ],
 "metadata": {
  "kernelspec": {
   "display_name": "pybela-2uXYSGIe",
   "language": "python",
   "name": "python3"
  },
  "language_info": {
   "codemirror_mode": {
    "name": "ipython",
    "version": 3
   },
   "file_extension": ".py",
   "mimetype": "text/x-python",
   "name": "python",
   "nbconvert_exporter": "python",
   "pygments_lexer": "ipython3",
   "version": "3.9.19"
  }
 },
 "nbformat": 4,
 "nbformat_minor": 2
}
