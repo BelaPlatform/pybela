{
 "cells": [
  {
   "cell_type": "code",
   "execution_count": null,
   "metadata": {},
   "outputs": [],
   "source": [
    "import asyncio\n",
    "import nest_asyncio\n",
    "import websockets\n",
    "import json\n",
    "\n",
    "ip = \"192.168.7.2\"\n",
    "port=5555\n",
    "data_add = \"gui_data\"\n",
    "control_add = \"gui_control\"\n",
    "\n",
    "ws_control_add = f\"ws://{ip}:{port}/{control_add}\"\n",
    "ws_data_add = f\"ws://{ip}:{port}/{data_add}\""
   ]
  },
  {
   "cell_type": "code",
   "execution_count": null,
   "metadata": {},
   "outputs": [],
   "source": [
    "nest_asyncio.apply() # event loop needs to be nested - otherwise it conflicts with jupyter's event loop\n",
    "\n",
    "async def send_msg_callback(ws_address,msg):\n",
    "    async with websockets.connect(ws_address) as ws:\n",
    "        await ws.send(json.dumps(msg))\n",
    "        print(f\"Sent: {msg}\")\n",
    "\n",
    "async def rec_msg_callback(ws_address):\n",
    "    async with websockets.connect(ws_address) as ws:\n",
    "        while True:\n",
    "            msg = await ws.recv()\n",
    "            print(f\"Received:{msg}\") # TODO filter according to msg type\n",
    "\n",
    "async def start_listener_callback(ws_address):\n",
    "    await rec_msg_callback(ws_address)\n",
    "\n",
    "def send_msg(ws_address,msg):\n",
    "    loop = asyncio.get_event_loop()\n",
    "    loop.run_until_complete(send_msg_callback(ws_address,msg))\n",
    "\n",
    "def start_listener(ws_address):\n",
    "    loop = asyncio.get_event_loop()\n",
    "    loop.create_task(start_listener_callback(ws_address)) # create_task() is needed so that the listener runs in the background and prints messages as received without blocking the cell"
   ]
  },
  {
   "cell_type": "markdown",
   "metadata": {},
   "source": [
    "### connect to control ws"
   ]
  },
  {
   "cell_type": "code",
   "execution_count": null,
   "metadata": {},
   "outputs": [],
   "source": [
    "start_listener(ws_control_add) # this gets a \"connection\" json response each time, so run only once or TODO filter it out\n"
   ]
  },
  {
   "cell_type": "code",
   "execution_count": null,
   "metadata": {},
   "outputs": [],
   "source": [
    "send_msg(ws_control_add,  {\"watcher\":[{\"cmd\":\"hi\"}]})"
   ]
  },
  {
   "cell_type": "code",
   "execution_count": null,
   "metadata": {},
   "outputs": [],
   "source": [
    "send_msg(ws_control_add,{\"watcher\":[{\"cmd\": \"unwatch\", \"watchers\":['myvar2']}]})"
   ]
  },
  {
   "cell_type": "code",
   "execution_count": null,
   "metadata": {},
   "outputs": [],
   "source": [
    "send_msg(ws_control_add,{\"watcher\":[{\"cmd\":\"list\"}]})"
   ]
  },
  {
   "cell_type": "markdown",
   "metadata": {},
   "source": [
    "### connect to data websockets  "
   ]
  },
  {
   "cell_type": "code",
   "execution_count": null,
   "metadata": {},
   "outputs": [],
   "source": [
    "start_listener(ws_data_add)"
   ]
  },
  {
   "cell_type": "code",
   "execution_count": null,
   "metadata": {},
   "outputs": [],
   "source": [
    "send_msg(ws_control_add,{\"watcher\":[{\"cmd\": \"watch\", \"watchers\":['myvar2']}]})"
   ]
  },
  {
   "cell_type": "code",
   "execution_count": null,
   "metadata": {},
   "outputs": [],
   "source": [
    "send_msg(ws_control_add,{\"watcher\":[{\"cmd\": \"unwatch\", \"watchers\":['myvar2']}]})"
   ]
  },
  {
   "cell_type": "markdown",
   "metadata": {},
   "source": [
    "### watcher class"
   ]
  },
  {
   "cell_type": "code",
   "execution_count": null,
   "metadata": {},
   "outputs": [],
   "source": [
    "import asyncio\n",
    "import nest_asyncio\n",
    "import websockets\n",
    "import json\n",
    "import array\n",
    "from collections import deque # circular buffers "
   ]
  },
  {
   "cell_type": "code",
   "execution_count": null,
   "metadata": {},
   "outputs": [],
   "source": [
    "class Watcher:\n",
    "    \n",
    "    def __init__(self, ip=\"192.168.7.2\", port=5555, data_add=\"gui_data\", control_add=\"gui_control\"):\n",
    "        \"\"\" Watcher class __summary__.\n",
    "\n",
    "        Args:\n",
    "            ip (str, optional): Remote address IP. Defaults to \"192.168.7.2\".\n",
    "            port (int, optional): Remote address port. Defaults to 5555.\n",
    "            data_add (str, optional): Data endpoint. Defaults to \"gui_data\".\n",
    "            control_add (str, optional): Control endpoint. Defaults to \"gui_control\".\n",
    "        \"\"\"\n",
    "        self.ip = ip\n",
    "        self.port = port\n",
    "        self.data_add = data_add\n",
    "        self.control_add = control_add\n",
    "        self.ws_control_add = f\"ws://{self.ip}:{self.port}/{self.control_add}\"\n",
    "        self.ws_data_add = f\"ws://{self.ip}:{self.port}/{self.data_add}\"\n",
    "        \n",
    "        self.ws_control = None\n",
    "        self.ws_data = None\n",
    "        \n",
    "        self._ctrl_listener = None\n",
    "        self._data_listener = None\n",
    "        \n",
    "        self._watcher_vars = [] # updates every time start is called\n",
    "        self._list_response_available = asyncio.Event()\n",
    "        self._list_response = None\n",
    "        \n",
    "        \n",
    "        nest_asyncio.apply() # event loop needs to be nested - otherwise it conflicts with jupyter's event loop\n",
    "    \n",
    "    @property\n",
    "    def watcher_vars(self):\n",
    "        return self._watcher_vars # updates every time start is called\n",
    "    \n",
    "    @property\n",
    "    def watched_vars(self):\n",
    "        return [var[\"name\"] for var in self.list() if var[\"watched\"]]\n",
    "    \n",
    "    @property\n",
    "    def unwatched_vars(self):\n",
    "        return [var[\"name\"] for var in self.list() if var[\"unwatched\"]]\n",
    "        \n",
    "    # public methods\n",
    "    \n",
    "    def start(self): # TODO check Bela project_name ?\n",
    "        \n",
    "        if self._ctrl_listener is None: # avoid duplicate listeners\n",
    "            self.start_ctrl_listener()\n",
    "        if self._data_listener is None:\n",
    "            self.start_data_listener()\n",
    "        \n",
    "        # populate watcher vars so that variables received in data stream can be identified\n",
    "        self._watcher_vars = [var[\"name\"] for var in self.list()] # TODO add error handling\n",
    "    \n",
    "    def stop(self):  \n",
    "        if self._ctrl_listener is not None:\n",
    "            self._ctrl_listener.cancel()\n",
    "            self._ctrl_listener = None # empty the listener \n",
    "        if self._data_listener is not None:\n",
    "            self._data_listener.cancel()\n",
    "            self._data_listener = None\n",
    "            \n",
    "    def list(self):\n",
    "        async def async_list():\n",
    "            if self._ctrl_listener is None: # start listener if listener is not running\n",
    "                self.start_ctrl_listener()\n",
    "            self.send_ctrl_msg({\"watcher\": [{\"cmd\": \"list\"}]})\n",
    "            # Wait for the list response to be available\n",
    "            await self._list_response_available.wait()\n",
    "            self._list_response_available.clear()  # Reset the event for the next call      \n",
    "            return self._list_response\n",
    "                \n",
    "        return asyncio.run(async_list())\n",
    "    \n",
    "    \n",
    "    def send_ctrl_msg(self, msg):\n",
    "        self._send_msg(self.ws_control,self.ws_control_add, msg)\n",
    "    \n",
    "    def start_ctrl_listener(self):\n",
    "        self._ctrl_listener = self._start_listener(self.ws_control,self.ws_control_add)\n",
    "    \n",
    "    def start_data_listener(self):\n",
    "        self._data_listener = self._start_listener(self.ws_data, self.ws_data_add)\n",
    "\n",
    "    # _private methods    \n",
    "    \n",
    "    ## start listener   \n",
    "\n",
    "    def _start_listener(self,ws, ws_address):\n",
    "        loop = asyncio.get_event_loop()\n",
    "        listener_task = loop.create_task(self._start_listener_callback(ws,ws_address)) # create_task() is needed so that the listener runs in the background and prints messages as received without blocking the cell\n",
    "        return listener_task\n",
    "    \n",
    "    async def _start_listener_callback(self, ws, ws_address):\n",
    "        await self._rec_msg_callback(ws, ws_address)\n",
    "        \n",
    "    ## send message\n",
    "    \n",
    "    def _send_msg(self, ws, ws_address, msg):\n",
    "        loop = asyncio.get_event_loop()\n",
    "        loop.run_until_complete(self._send_msg_callback(ws,ws_address, msg))   \n",
    "    \n",
    "    async def _send_msg_callback(self,ws, ws_address, msg):\n",
    "        try:\n",
    "            async with websockets.connect(ws_address) as ws: # here you can use the same websocket for multiple messages -- but avoid using the same one for sending and receiving\n",
    "                await ws.send(json.dumps(msg))\n",
    "        except Exception as e:\n",
    "            print(f\"Error while sending message: {e}\") \n",
    "    \n",
    "    ## receive message     \n",
    "    \n",
    "    async def _rec_msg_callback(self, ws, ws_address):\n",
    "        try:\n",
    "            async with websockets.connect(ws_address) as ws:\n",
    "                while True:\n",
    "                    msg = await ws.recv()\n",
    "                    if ws_address == self.ws_data_add:\n",
    "                        self._parse_data_message(msg)\n",
    "                    elif ws_address == self.ws_control_add:\n",
    "                        self._parse_control_message(msg)\n",
    "                    else:\n",
    "                        print(msg)\n",
    "        except Exception as e:\n",
    "            print(f\"Error while receiving message: {e}\")\n",
    "    \n",
    "    \n",
    "    def _parse_data_message(self, msg): # method overwritten by streamaer\n",
    "        pass\n",
    "    \n",
    "    def _parse_control_message(self, msg):\n",
    "        _msg = json.loads(msg)\n",
    "        if \"watcher\" in _msg.keys() and \"watchers\" in _msg[\"watcher\"].keys(): # list cmd\n",
    "            self._list_response = _msg[\"watcher\"][\"watchers\"]\n",
    "            self._list_response_available.set()\n",
    "\n",
    "    def __del__(self):\n",
    "        self.stop() # stop websockets"
   ]
  },
  {
   "cell_type": "code",
   "execution_count": null,
   "metadata": {},
   "outputs": [],
   "source": [
    "watcher = Watcher()"
   ]
  },
  {
   "cell_type": "code",
   "execution_count": null,
   "metadata": {},
   "outputs": [],
   "source": [
    "watcher.list()"
   ]
  },
  {
   "cell_type": "markdown",
   "metadata": {},
   "source": [
    "### streamer class"
   ]
  },
  {
   "cell_type": "code",
   "execution_count": null,
   "metadata": {},
   "outputs": [],
   "source": [
    "class Streamer(Watcher):\n",
    "    def __init__(self, ip=\"192.168.7.2\", port=5555, data_add=\"gui_data\", control_add=\"gui_control\"):\n",
    "        \"\"\" Streamer class __summary__.\n",
    "\n",
    "            Args:\n",
    "                ip (str, optional): Remote address IP. Defaults to \"192.168.7.2\".\n",
    "                port (int, optional): Remote address port. Defaults to 5555.\n",
    "                data_add (str, optional): Data endpoint. Defaults to \"gui_data\".\n",
    "                control_add (str, optional): Control endpoint. Defaults to \"gui_control\".\n",
    "        \"\"\"\n",
    "        \n",
    "        super(Streamer, self).__init__(ip, port, data_add, control_add)\n",
    "        \n",
    "        self._streaming_buffer_size = 1000 \n",
    "        self._streaming_buffer = None\n",
    "        self._streaming_mode = None # OFF, FOREVER, N_FRAMES :: this flag prevents writing into the streaming buffer unless requested by the user using the start/stop_streaming() functions\n",
    "        self._streaming_buffer_available = asyncio.Event()\n",
    "        \n",
    "    @property\n",
    "    def streaming_buffer_size(self):\n",
    "        return self._streaming_buffer_size\n",
    "    \n",
    "    @streaming_buffer_size.setter\n",
    "    def streaming_buffer_size(self, value):\n",
    "        self._streaming_buffer_size = value\n",
    "        self._streaming_buffer = {var: deque(maxlen=self._streaming_buffer_size) for var in self._watcher_vars} # resize streaming buffer\n",
    "    \n",
    "    @property \n",
    "    def streaming_buffer(self):\n",
    "        return {key: list(value) for key, value in self._streaming_buffer.items()} # convert dict of deque to dict of list\n",
    "        \n",
    "    def start(self):\n",
    "        super(Streamer, self).start()\n",
    "        self._streaming_buffer = {var: deque(maxlen=self._streaming_buffer_size) for var in self._watcher_vars} # init streaming buffer # FIX this is duplicated \n",
    "    \n",
    "    def start_streaming(self, variables=[]): # stream forever until stopped\n",
    "        self.start()\n",
    "        self._streaming_mode = \"FOREVER\" \n",
    "        self.send_ctrl_msg({\"watcher\": [{\"cmd\": \"watch\", \"watchers\":variables}]})        \n",
    "        \n",
    "    def stop_streaming(self, variables=[]):\n",
    "        self.stop()\n",
    "        self._streaming_mode = \"OFF\"\n",
    "        self.send_ctrl_msg({\"watcher\": [{\"cmd\": \"unwatch\", \"watchers\":variables}]})\n",
    "        return self.streaming_buffer \n",
    "\n",
    "    async def async_stream_n_frames(self,variables, n_frames):\n",
    "        self.start()\n",
    "        self._streaming_mode= \"N_FRAMES\" # flag cleared in __rec_msg_callback\n",
    "        self.streaming_buffer_size = n_frames # using setter to automatically resize buffer \n",
    "        self.send_ctrl_msg({\"watcher\": [{\"cmd\": \"watch\", \"watchers\":variables}]}) # FIX if a variable was already set as watched it will be streamed here too -- TODO set variables as unwatched if not requested\n",
    "\n",
    "        # return when finished filling buffer \n",
    "        await self._streaming_buffer_available.wait()\n",
    "        self._streaming_buffer_available.clear()\n",
    "        self.stop_streaming(variables) # turns off listener, unwatches variables\n",
    "        \n",
    "        return self.streaming_buffer\n",
    "        \n",
    "    def stream_n_frames(self, variables=[], n_frames=1000, delay=0): # resizes the streaming buffer size to n_frames and returns it when full # FIX this blocks the cell? -- but needed in order to return the buffer\n",
    "        # FIX now frames are counted as received by python -- once data comes timestamped, frames should be counted with respect to timestamps\n",
    "        # TODO implement delay once data comes timestamped\n",
    "        \n",
    "        return asyncio.run(self.async_stream_n_frames(variables, n_frames))\n",
    "    \n",
    "\n",
    "    def _parse_data_message(self, msg):\n",
    "        global _type, _channel # FIX this is not very clean\n",
    "        if self._streaming_mode != \"OFF\":\n",
    "            if len(msg) == 3:\n",
    "                _channel = int(str(msg)[2])\n",
    "                _type = str(msg)[4]\n",
    "            elif len(msg) > 3:\n",
    "                _msg = array.array(_type, msg).tolist()\n",
    "                self._streaming_buffer[self._watcher_vars[_channel]].extend(_msg) # FIX this does not truncate once buffer size is reached\n",
    "                if self._streaming_mode == \"N_FRAMES\" and all(len(self._streaming_buffer[var]) == self._streaming_buffer_size for var in self._watcher_vars):\n",
    "                    self._streaming_mode = \"OFF\"\n",
    "                    self._streaming_buffer_available.set()\n"
   ]
  },
  {
   "cell_type": "code",
   "execution_count": null,
   "metadata": {},
   "outputs": [],
   "source": [
    "streamer = Streamer()"
   ]
  },
  {
   "cell_type": "code",
   "execution_count": null,
   "metadata": {},
   "outputs": [],
   "source": [
    "streaming_task =  asyncio.create_task(streamer.stream_n_frames_coroutine(variables=[\"myvar\",\"myvar2\"], n_frames=3000))\n"
   ]
  },
  {
   "cell_type": "code",
   "execution_count": null,
   "metadata": {},
   "outputs": [],
   "source": [
    "print(streaming.result())"
   ]
  }
 ],
 "metadata": {
  "kernelspec": {
   "display_name": "Python 3 (ipykernel)",
   "language": "python",
   "name": "python3"
  },
  "language_info": {
   "codemirror_mode": {
    "name": "ipython",
    "version": 3
   },
   "file_extension": ".py",
   "mimetype": "text/x-python",
   "name": "python",
   "nbconvert_exporter": "python",
   "pygments_lexer": "ipython3",
   "version": "3.10.8"
  },
  "orig_nbformat": 4
 },
 "nbformat": 4,
 "nbformat_minor": 2
}
