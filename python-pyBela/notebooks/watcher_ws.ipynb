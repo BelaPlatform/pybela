{
 "cells": [
  {
   "cell_type": "code",
   "execution_count": 2,
   "metadata": {},
   "outputs": [],
   "source": [
    "import asyncio\n",
    "import nest_asyncio\n",
    "import websockets\n",
    "import json\n",
    "\n",
    "ip = \"192.168.7.2\"\n",
    "port=5555\n",
    "data_add = \"gui_data\"\n",
    "control_add = \"gui_control\"\n",
    "notebook_url = \"localhost:8888\"\n",
    "ws_control_add = f\"ws://{ip}:{port}/{control_add}\"\n",
    "ws_data_add = f\"ws://{ip}:{port}/{data_add}\"\n",
    "\n",
    "nest_asyncio.apply() # the asyncio loop conflicts with the jupyter notebook loop, this creates a nested event loop that can coexist with the jupyter notebook event loop\n",
    "\n",
    "async def send_message(message):\n",
    "    async with websockets.connect(ws_control_add) as websocket:\n",
    "        await websocket.send(json.dumps(message))\n",
    "        print(f\"Sent: {message}\")\n",
    "\n",
    "async def rec_message():\n",
    "    async with websockets.connect(ws_control_add) as websocket:\n",
    "        while True:\n",
    "            msg = await websocket.recv()\n",
    "            print(\"Received:\", msg)\n",
    "\n",
    "async def start_websocket_listener():\n",
    "    await rec_message()\n",
    "\n",
    "def send_websocket_message(message):\n",
    "    loop = asyncio.get_event_loop()\n",
    "    loop.run_until_complete(send_message(message))\n",
    "\n",
    "def start_listener():\n",
    "    loop = asyncio.new_event_loop()\n",
    "    asyncio.set_event_loop(loop)\n",
    "    loop.run_until_complete(start_websocket_listener())\n",
    "\n"
   ]
  },
  {
   "cell_type": "code",
   "execution_count": 3,
   "metadata": {},
   "outputs": [
    {
     "data": {
      "text/plain": [
       "<coroutine object start_websocket_listener at 0x10f53d0e0>"
      ]
     },
     "execution_count": 3,
     "metadata": {},
     "output_type": "execute_result"
    }
   ],
   "source": [
    "start_websocket_listener()"
   ]
  },
  {
   "cell_type": "code",
   "execution_count": 5,
   "metadata": {},
   "outputs": [
    {
     "name": "stdout",
     "output_type": "stream",
     "text": [
      "Sent: {'watcher': [{'cmd': 'hi'}]}\n"
     ]
    }
   ],
   "source": [
    "send_websocket_message(  {\"watcher\":[{\"cmd\":\"hi\"}]})"
   ]
  },
  {
   "cell_type": "code",
   "execution_count": 6,
   "metadata": {},
   "outputs": [
    {
     "name": "stdout",
     "output_type": "stream",
     "text": [
      "Sent: {'watcher': [{'cmd': 'watch', 'watchers': ['myvar2']}]}\n"
     ]
    }
   ],
   "source": [
    "send_websocket_message({\"watcher\":[{\"cmd\": \"watch\", \"watchers\":['myvar2']}]})"
   ]
  },
  {
   "cell_type": "code",
   "execution_count": 8,
   "metadata": {},
   "outputs": [
    {
     "name": "stdout",
     "output_type": "stream",
     "text": [
      "Sent: {'watcher': [{'cmd': 'list'}]}\n"
     ]
    }
   ],
   "source": [
    "send_websocket_message({\"watcher\":[{\"cmd\":\"list\"}]}) # this does not seem to be receiving the list of watched vars?"
   ]
  }
 ],
 "metadata": {
  "kernelspec": {
   "display_name": "Python 3 (ipykernel)",
   "language": "python",
   "name": "python3"
  },
  "language_info": {
   "codemirror_mode": {
    "name": "ipython",
    "version": 3
   },
   "file_extension": ".py",
   "mimetype": "text/x-python",
   "name": "python",
   "nbconvert_exporter": "python",
   "pygments_lexer": "ipython3",
   "version": "3.10.8"
  },
  "orig_nbformat": 4
 },
 "nbformat": 4,
 "nbformat_minor": 2
}
