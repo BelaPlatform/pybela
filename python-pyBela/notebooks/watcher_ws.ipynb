{
 "cells": [
  {
   "cell_type": "code",
   "execution_count": null,
   "metadata": {},
   "outputs": [],
   "source": [
    "import asyncio\n",
    "import nest_asyncio\n",
    "import websockets\n",
    "import json\n",
    "\n",
    "ip = \"192.168.7.2\"\n",
    "port=5555\n",
    "data_add = \"gui_data\"\n",
    "control_add = \"gui_control\"\n",
    "\n",
    "ws_control_add = f\"ws://{ip}:{port}/{control_add}\"\n",
    "ws_data_add = f\"ws://{ip}:{port}/{data_add}\""
   ]
  },
  {
   "cell_type": "code",
   "execution_count": null,
   "metadata": {},
   "outputs": [],
   "source": [
    "nest_asyncio.apply() # event loop needs to be nested - otherwise it conflicts with jupyter's event loop\n",
    "\n",
    "async def send_msg_callback(ws_address,msg):\n",
    "    async with websockets.connect(ws_address) as ws:\n",
    "        await ws.send(json.dumps(msg))\n",
    "        print(f\"Sent: {msg}\")\n",
    "\n",
    "async def rec_msg_callback(ws_address):\n",
    "    async with websockets.connect(ws_address) as ws:\n",
    "        while True:\n",
    "            msg = await ws.recv()\n",
    "            print(f\"Received:{msg}\") # TODO filter according to msg type\n",
    "\n",
    "async def start_listener_callback(ws_address):\n",
    "    await rec_msg_callback(ws_address)\n",
    "\n",
    "def send_msg(ws_address,msg):\n",
    "    loop = asyncio.get_event_loop()\n",
    "    loop.run_until_complete(send_msg_callback(ws_address,msg))\n",
    "\n",
    "def start_listener(ws_address):\n",
    "    loop = asyncio.get_event_loop()\n",
    "    loop.create_task(start_listener_callback(ws_address)) # create_task() is needed so that the listener runs in the background and prints messages as received without blocking the cell"
   ]
  },
  {
   "cell_type": "markdown",
   "metadata": {},
   "source": [
    "### connect to control ws"
   ]
  },
  {
   "cell_type": "code",
   "execution_count": null,
   "metadata": {},
   "outputs": [],
   "source": [
    "start_listener(ws_control_add) # this gets a \"connection\" json response each time, so run only once or TODO filter it out\n"
   ]
  },
  {
   "cell_type": "code",
   "execution_count": null,
   "metadata": {},
   "outputs": [],
   "source": [
    "send_msg(ws_control_add,  {\"watcher\":[{\"cmd\":\"hi\"}]})"
   ]
  },
  {
   "cell_type": "code",
   "execution_count": null,
   "metadata": {},
   "outputs": [],
   "source": [
    "send_msg(ws_control_add,{\"watcher\":[{\"cmd\": \"unwatch\", \"watchers\":['myvar2']}]})"
   ]
  },
  {
   "cell_type": "code",
   "execution_count": null,
   "metadata": {},
   "outputs": [],
   "source": [
    "send_msg(ws_control_add,{\"watcher\":[{\"cmd\":\"list\"}]})"
   ]
  },
  {
   "cell_type": "markdown",
   "metadata": {},
   "source": [
    "### connect to data websockets  "
   ]
  },
  {
   "cell_type": "code",
   "execution_count": null,
   "metadata": {},
   "outputs": [],
   "source": [
    "start_listener(ws_data_add)"
   ]
  },
  {
   "cell_type": "code",
   "execution_count": null,
   "metadata": {},
   "outputs": [],
   "source": [
    "send_msg(ws_control_add,{\"watcher\":[{\"cmd\": \"watch\", \"watchers\":['myvar2']}]})"
   ]
  },
  {
   "cell_type": "code",
   "execution_count": null,
   "metadata": {},
   "outputs": [],
   "source": [
    "send_msg(ws_control_add,{\"watcher\":[{\"cmd\": \"unwatch\", \"watchers\":['myvar2']}]})"
   ]
  },
  {
   "cell_type": "markdown",
   "metadata": {},
   "source": [
    "### watcher class"
   ]
  },
  {
   "cell_type": "code",
   "execution_count": null,
   "metadata": {},
   "outputs": [],
   "source": [
    "import asyncio\n",
    "import nest_asyncio\n",
    "import websockets\n",
    "import json\n",
    "import array\n",
    "from collections import deque # circular buffers \n",
    "\n",
    "#nest_asyncio.apply() # needed for running event loops inside of jupyter event loop"
   ]
  },
  {
   "cell_type": "code",
   "execution_count": null,
   "metadata": {},
   "outputs": [],
   "source": [
    "class Watcher:\n",
    "    \n",
    "    def __init__(self, ip=\"192.168.7.2\", port=5555, data_add=\"gui_data\", control_add=\"gui_control\"):\n",
    "        \"\"\" Watcher class __summary__.\n",
    "\n",
    "        Args:\n",
    "            ip (str, optional): Remote address IP. Defaults to \"192.168.7.2\".\n",
    "            port (int, optional): Remote address port. Defaults to 5555.\n",
    "            data_add (str, optional): Data endpoint. Defaults to \"gui_data\".\n",
    "            control_add (str, optional): Control endpoint. Defaults to \"gui_control\".\n",
    "        \"\"\"\n",
    "        self.ip = ip\n",
    "        self.port = port\n",
    "        self.data_add = data_add\n",
    "        self.control_add = control_add\n",
    "        self.ws_control_add = f\"ws://{self.ip}:{self.port}/{self.control_add}\"\n",
    "        self.ws_data_add = f\"ws://{self.ip}:{self.port}/{self.data_add}\"\n",
    "        \n",
    "        self.ws_control = None\n",
    "        self.ws_data = None\n",
    "        \n",
    "        self.__ctrl_listener = None\n",
    "        self.__data_listener = None\n",
    "        \n",
    "        self.__watcher_vars = [] # updates every time start is called\n",
    "        self.__list_response_available = asyncio.Event()\n",
    "        self.__list_response = None\n",
    "        \n",
    "        self.__streaming_buffer_size = 1000 \n",
    "        self.__streaming_buffer = None\n",
    "        self.__streaming_mode = None # OFF, FOREVER, N_FRAMES :: this flag prevents writing into the streaming buffer unless requested by the user using the start/stop_streaming() functions\n",
    "        self.__streaming_buffer_available = asyncio.Event()\n",
    "        \n",
    "        \n",
    "        nest_asyncio.apply() # event loop needs to be nested - otherwise it conflicts with jupyter's event loop\n",
    "\n",
    "\n",
    "    @property\n",
    "    def streaming_buffer_size(self):\n",
    "        return self.__streaming_buffer_size\n",
    "    \n",
    "    @streaming_buffer_size.setter\n",
    "    def streaming_buffer_size(self, value):\n",
    "        self.__streaming_buffer_size = value\n",
    "        self.__streaming_buffer = {var: deque(maxlen=self.__streaming_buffer_size) for var in self.__watcher_vars} # resize streaming buffer\n",
    "    \n",
    "    @property \n",
    "    def streaming_buffer(self):\n",
    "            return {key: list(value) for key, value in self.__streaming_buffer.items()} # convert dict of deque to dict of list\n",
    "    \n",
    "    @property\n",
    "    def watcher_vars(self):\n",
    "        return self.__watcher_vars # updates every time start is called\n",
    "    \n",
    "    @property\n",
    "    def watched_vars(self):\n",
    "        return [var[\"name\"] for var in self.list() if var[\"watched\"]]\n",
    "    \n",
    "    @property\n",
    "    def unwatched_vars(self):\n",
    "        return [var[\"name\"] for var in self.list() if var[\"unwatched\"]]\n",
    "        \n",
    "    # public methods\n",
    "    \n",
    "    def start(self): # TODO check Bela project_name ?\n",
    "        \n",
    "        if self.__ctrl_listener is None: # avoid duplicate listeners\n",
    "            self.start_ctrl_listener()\n",
    "        if self.__data_listener is None:\n",
    "            self.start_data_listener()\n",
    "        \n",
    "        # populate watcher vars so that variables received in data stream can be identified\n",
    "        self.__watcher_vars = [var[\"name\"] for var in self.list()] # TODO add error handling\n",
    "        self.__streaming_buffer = {var: deque(maxlen=self.__streaming_buffer_size) for var in self.__watcher_vars} # init streaming buffer # FIX this is duplicated \n",
    "    \n",
    "    def stop(self):  \n",
    "        if self.__ctrl_listener is not None:\n",
    "            self.__ctrl_listener.cancel()\n",
    "            self.__ctrl_listener = None # empty the listener \n",
    "        if self.__data_listener is not None:\n",
    "            self.__data_listener.cancel()\n",
    "            self.__data_listener = None\n",
    "            \n",
    "    def list(self):\n",
    "        async def list_coroutine():\n",
    "             \n",
    "            if self.__ctrl_listener is None: # start listener if listener is not running\n",
    "                self.start_ctrl_listener()\n",
    "            \n",
    "            self.send_ctrl_msg({\"watcher\": [{\"cmd\": \"list\"}]})\n",
    "            \n",
    "            # Wait for the list response to be available\n",
    "            await self.__list_response_available.wait()\n",
    "            self.__list_response_available.clear()  # Reset the event for the next call\n",
    "            \n",
    "            return self.__list_response\n",
    "                \n",
    "        return asyncio.run(list_coroutine())\n",
    "    \n",
    "    def start_streaming(self, variables=[]): # stream forever until stopped\n",
    "        self.start()\n",
    "        self.__streaming_mode = \"FOREVER\" \n",
    "        self.send_ctrl_msg({\"watcher\": [{\"cmd\": \"watch\", \"watchers\":variables}]})        \n",
    "        \n",
    "    def stop_streaming(self, variables=[]):\n",
    "        self.stop()\n",
    "        self.__streaming_mode = \"OFF\"\n",
    "        self.send_ctrl_msg({\"watcher\": [{\"cmd\": \"unwatch\", \"watchers\":variables}]})\n",
    "        return self.streaming_buffer \n",
    "        \n",
    "    def stream_n_frames(self, variables=[], n_frames=1000, delay=0): # resizes the streaming buffer size to n_frames and returns it when full # FIX this blocks the cell?\n",
    "        # FIX now frames are counted as received by python -- once data comes timestamped, frames should be counted with respect to timestamps\n",
    "        # TODO implement delay once data comes timestamped\n",
    "        async def stream_n_frames_coroutine():\n",
    "            self.start()\n",
    "            self.__streaming_mode= \"N_FRAMES\" # flag cleared in __rec_msg_callback\n",
    "            self.streaming_buffer_size = n_frames # using setter to automatically resize buffer \n",
    "            self.send_ctrl_msg({\"watcher\": [{\"cmd\": \"watch\", \"watchers\":variables}]}) # FIX if a variable was already set as watched it will be streamed here too -- TODO set variables as unwatched if not requested\n",
    "            \n",
    "            # return when finished filling buffer \n",
    "            await self.__streaming_buffer_available.wait()\n",
    "            self.__streaming_buffer_available.clear()\n",
    "            self.stop_streaming(variables) # turns off listener, unwatches variables\n",
    "            \n",
    "            return self.streaming_buffer\n",
    "        \n",
    "        return asyncio.run(stream_n_frames_coroutine())\n",
    "    \n",
    "    def send_ctrl_msg(self, msg):\n",
    "        self.__send_msg(self.ws_control,self.ws_control_add, msg)\n",
    "    \n",
    "    def start_ctrl_listener(self):\n",
    "        self.__ctrl_listener = self.__start_listener(self.ws_control,self.ws_control_add)\n",
    "    \n",
    "    def start_data_listener(self):\n",
    "        self.__data_listener = self.__start_listener(self.ws_data, self.ws_data_add)\n",
    "\n",
    "\n",
    "\n",
    "    # __private methods    \n",
    "    \n",
    "    ## start listener   \n",
    "\n",
    "    def __start_listener(self,ws, ws_address):\n",
    "        loop = asyncio.get_event_loop()\n",
    "        listener_task = loop.create_task(self.__start_listener_callback(ws,ws_address)) # create_task() is needed so that the listener runs in the background and prints messages as received without blocking the cell\n",
    "        return listener_task\n",
    "    \n",
    "    async def __start_listener_callback(self, ws, ws_address):\n",
    "        await self.__rec_msg_callback(ws, ws_address)\n",
    "        \n",
    "    ## send message\n",
    "    \n",
    "    def __send_msg(self, ws, ws_address, msg):\n",
    "        loop = asyncio.get_event_loop()\n",
    "        loop.run_until_complete(self.__send_msg_callback(ws,ws_address, msg))   \n",
    "    \n",
    "    async def __send_msg_callback(self,ws, ws_address, msg):\n",
    "        try:\n",
    "            async with websockets.connect(ws_address) as ws: # here you can use the same websocket for multiple messages -- but avoid using the same one for sending and receiving\n",
    "                await ws.send(json.dumps(msg))\n",
    "                #print(f\"Sent: {msg}\")\n",
    "        except Exception as e:\n",
    "            print(f\"Error while sending message: {e}\") \n",
    "    \n",
    "    ## receive message     \n",
    "    \n",
    "    async def __rec_msg_callback(self, ws, ws_address): \n",
    "        try:\n",
    "            async with websockets.connect(ws_address) as ws:\n",
    "                _channel = None\n",
    "                _type = None \n",
    "                \n",
    "                while True:\n",
    "                    msg = await ws.recv()\n",
    "                    \n",
    "                    if ws_address == self.ws_data_add and self.__streaming_mode != \"OFF\": # --> data websocket parsing                \n",
    "                        if len(msg) == 3: # header message with channel and type info \n",
    "                            _channel = int(str(msg)[2]) \n",
    "                            _type = str(msg)[4]\n",
    "                        elif len(msg)>3: # body message with array of data for channel n, parse to list \n",
    "                            _msg = array.array(_type, msg).tolist()\n",
    "                            self.__streaming_buffer[self.__watcher_vars[_channel]].extend(_msg) # FIX this takes as many as possible rather than truncating once n is achieved \n",
    "                            if self.__streaming_mode == \"N_FRAMES\" and all(len(self.__streaming_buffer[var]) == self.__streaming_buffer_size for var in self.__watcher_vars):\n",
    "                                self.__streaming_mode = \"OFF\" # prevent updating the streaming buffer\n",
    "                                self.__streaming_buffer_available.set()\n",
    "                            \n",
    "                            \n",
    "                    elif ws_address == self.ws_control_add: # --> control websocket parsing\n",
    "                        _msg = json.loads(msg)\n",
    "                        if \"watcher\" in _msg.keys() and \"watchers\" in _msg[\"watcher\"].keys(): # cmd \"list\" response \n",
    "                                self.__list_response = _msg[\"watcher\"][\"watchers\"]\n",
    "                                self.__list_response_available.set()     \n",
    "                    \n",
    "                    else:\n",
    "                        print(msg)\n",
    "\n",
    "        except Exception as e:\n",
    "            print(f\"Error while receiving message: {e}\")\n",
    "\n",
    "    def __del__(self):\n",
    "        self.stop() # stop websockets"
   ]
  },
  {
   "cell_type": "code",
   "execution_count": null,
   "metadata": {},
   "outputs": [],
   "source": [
    "watcher = Watcher()"
   ]
  },
  {
   "cell_type": "code",
   "execution_count": null,
   "metadata": {},
   "outputs": [],
   "source": [
    "watcher.stream_n_frames(variables=[\"myvar\",\"myvar2\"], n_frames=2000)  "
   ]
  },
  {
   "cell_type": "code",
   "execution_count": null,
   "metadata": {},
   "outputs": [],
   "source": [
    "watcher.start_streaming([\"myvar\"])"
   ]
  },
  {
   "cell_type": "code",
   "execution_count": null,
   "metadata": {},
   "outputs": [],
   "source": [
    "watcher.streaming_buffer\n",
    "\n",
    "print(len(watcher.streaming_buffer[\"myvar\"]), len(watcher.streaming_buffer[\"myvar2\"]))"
   ]
  },
  {
   "cell_type": "code",
   "execution_count": null,
   "metadata": {},
   "outputs": [],
   "source": [
    "watcher.stop_streaming()"
   ]
  },
  {
   "cell_type": "code",
   "execution_count": null,
   "metadata": {},
   "outputs": [],
   "source": [
    "watcher.send_ctrl_msg({\"watcher\":[{\"cmd\": \"unwatch\", \"watchers\":['myvar','myvar2']}]})"
   ]
  },
  {
   "cell_type": "code",
   "execution_count": null,
   "metadata": {},
   "outputs": [],
   "source": [
    "watcher.send_ctrl_msg({\"watcher\":[{\"cmd\": \"list\"}]})"
   ]
  },
  {
   "cell_type": "code",
   "execution_count": null,
   "metadata": {},
   "outputs": [],
   "source": [
    "\n",
    "watcher.stop_streaming()"
   ]
  },
  {
   "cell_type": "code",
   "execution_count": null,
   "metadata": {},
   "outputs": [],
   "source": [
    "# duplication testing\n",
    "\n",
    "watcher2.start()\n",
    "watcher.start()# calling watcher again does not duplicate prints "
   ]
  },
  {
   "cell_type": "code",
   "execution_count": null,
   "metadata": {},
   "outputs": [],
   "source": [
    "watcher.stop() # not sure this is working properly\n",
    "watcher2.stop()"
   ]
  },
  {
   "cell_type": "markdown",
   "metadata": {},
   "source": [
    "### streamer class"
   ]
  },
  {
   "cell_type": "code",
   "execution_count": null,
   "metadata": {},
   "outputs": [],
   "source": [
    "class Streamer():\n",
    "    def __init__(self, ip=\"192.168.7.2\", port=5555, data_add=\"gui_data\", control_add=\"gui_control\"):\n",
    "        \"\"\" Streamer class __summary__.\n",
    "\n",
    "            Args:\n",
    "                ip (str, optional): Remote address IP. Defaults to \"192.168.7.2\".\n",
    "                port (int, optional): Remote address port. Defaults to 5555.\n",
    "                data_add (str, optional): Data endpoint. Defaults to \"gui_data\".\n",
    "                control_add (str, optional): Control endpoint. Defaults to \"gui_control\".\n",
    "        \"\"\"\n",
    "        self.watcher = Watcher(ip, port, data_add, control_add) # do we need to inherit all methods? or just the send_msg() and start_listener()?\n",
    "        \n",
    "    def stream_forever(self,variables=[]):\n",
    "        \n",
    "        variables = [variables] if isinstance(variables, str) else variables # check variables is list\n",
    "        self.watcher.send_ctrl_msg({\"watcher\":[{\"cmd\": \"watch\", \"watchers\":variables}]})\n",
    "        self.watcher.start()\n",
    "        \n",
    "        \n",
    "    def stop_streaming(self,variables):  # FIX for some reason this stops streaming all variables\n",
    "        variables = [variables] if isinstance(variables, str) else variables    \n",
    "        self.watcher.send_ctrl_msg({\"watcher\":[{\"cmd\": \"unwatch\", \"watchers\":variables}]})\n",
    "\n",
    "            \n",
    "    def stop_streaming_all(self):\n",
    "        self.watcher.stop()\n",
    "                                \n",
    "        "
   ]
  },
  {
   "cell_type": "code",
   "execution_count": null,
   "metadata": {},
   "outputs": [],
   "source": [
    "streamer = Streamer()"
   ]
  },
  {
   "cell_type": "code",
   "execution_count": null,
   "metadata": {},
   "outputs": [],
   "source": [
    "streamer.stream_forever([\"myvar1\",\"myvar2\"])"
   ]
  },
  {
   "cell_type": "code",
   "execution_count": null,
   "metadata": {},
   "outputs": [],
   "source": [
    "streamer.stop_streaming(\"myvar2\")"
   ]
  },
  {
   "cell_type": "code",
   "execution_count": null,
   "metadata": {},
   "outputs": [],
   "source": [
    "streamer.stop_streaming_all()"
   ]
  },
  {
   "cell_type": "code",
   "execution_count": null,
   "metadata": {},
   "outputs": [],
   "source": [
    "streamer = Streamer() # this should delete the previous watcher so that ws are not duplicated"
   ]
  }
 ],
 "metadata": {
  "kernelspec": {
   "display_name": "Python 3 (ipykernel)",
   "language": "python",
   "name": "python3"
  },
  "language_info": {
   "codemirror_mode": {
    "name": "ipython",
    "version": 3
   },
   "file_extension": ".py",
   "mimetype": "text/x-python",
   "name": "python",
   "nbconvert_exporter": "python",
   "pygments_lexer": "ipython3",
   "version": "3.10.8"
  },
  "orig_nbformat": 4
 },
 "nbformat": 4,
 "nbformat_minor": 2
}
