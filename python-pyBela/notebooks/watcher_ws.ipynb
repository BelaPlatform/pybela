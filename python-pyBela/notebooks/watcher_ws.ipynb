{
 "cells": [
  {
   "cell_type": "code",
   "execution_count": 14,
   "metadata": {},
   "outputs": [],
   "source": [
    "ip = \"192.168.7.2\"\n",
    "port=5555\n",
    "data_add = \"gui_data\"\n",
    "control_add = \"gui_control\"\n",
    "notebook_url = \"localhost:8888\"\n",
    "ws_control_add = f\"ws://{ip}:{port}/{control_add}\"\n",
    "ws_data_add = f\"ws://{ip}:{port}/{data_add}\"\n"
   ]
  },
  {
   "cell_type": "code",
   "execution_count": 16,
   "metadata": {},
   "outputs": [
    {
     "name": "stdout",
     "output_type": "stream",
     "text": [
      "Received: {\"event\":\"connection\",\"projectName\":\"watcher\"}\n"
     ]
    }
   ],
   "source": [
    "import asyncio\n",
    "import nest_asyncio\n",
    "import websockets\n",
    "import json\n",
    "\n",
    "nest_asyncio.apply()\n",
    "\n",
    "async def send_message(message):\n",
    "    async with websockets.connect(ws_control_add) as websocket:\n",
    "        await websocket.send(json.dumps(message))\n",
    "        print(f\"Sent: {message}\")\n",
    "\n",
    "async def rec_message():\n",
    "    async with websockets.connect(ws_control_add) as websocket:\n",
    "        while True:\n",
    "            msg = await websocket.recv()\n",
    "            print(\"Received:\", msg)\n",
    "\n",
    "async def start_websocket_listener():\n",
    "    await rec_message()\n",
    "\n",
    "def send_websocket_message(message):\n",
    "    loop = asyncio.get_event_loop()\n",
    "    loop.run_until_complete(send_message(message))\n",
    "\n",
    "def start_listener():\n",
    "    loop = asyncio.get_event_loop()\n",
    "    loop.create_task(start_websocket_listener()) # create task is needed so that the listener runs in the background and prints messages as received without blocking the cell\n",
    "\n",
    "start_listener()\n"
   ]
  },
  {
   "cell_type": "code",
   "execution_count": 17,
   "metadata": {},
   "outputs": [
    {
     "name": "stdout",
     "output_type": "stream",
     "text": [
      "Sent: {'watcher': [{'cmd': 'hi'}]}\n",
      "Received: {\"event\":\"connection\",\"projectName\":\"watcher\"}\n"
     ]
    }
   ],
   "source": [
    "send_websocket_message(  {\"watcher\":[{\"cmd\":\"hi\"}]})"
   ]
  },
  {
   "cell_type": "code",
   "execution_count": 18,
   "metadata": {},
   "outputs": [
    {
     "name": "stdout",
     "output_type": "stream",
     "text": [
      "Sent: {'watcher': [{'cmd': 'watch', 'watchers': ['myvar2']}]}\n",
      "Received: {\"event\":\"connection\",\"projectName\":\"watcher\"}\n"
     ]
    }
   ],
   "source": [
    "send_websocket_message({\"watcher\":[{\"cmd\": \"watch\", \"watchers\":['myvar2']}]})"
   ]
  },
  {
   "cell_type": "code",
   "execution_count": 19,
   "metadata": {},
   "outputs": [
    {
     "name": "stdout",
     "output_type": "stream",
     "text": [
      "Sent: {'watcher': [{'cmd': 'list'}]}\n",
      "Received: {\"event\":\"connection\",\"projectName\":\"watcher\"}\n",
      "Received: {\"watcher\":{\"watchers\":[{\"controlled\":false,\"name\":\"myvar\",\"value\":0.65240478515625,\"watched\":false},{\"controlled\":false,\"name\":\"myvar2\",\"value\":0.65240478515625,\"watched\":true}]}}\n"
     ]
    }
   ],
   "source": [
    "send_websocket_message({\"watcher\":[{\"cmd\":\"list\"}]})"
   ]
  }
 ],
 "metadata": {
  "kernelspec": {
   "display_name": "Python 3 (ipykernel)",
   "language": "python",
   "name": "python3"
  },
  "language_info": {
   "codemirror_mode": {
    "name": "ipython",
    "version": 3
   },
   "file_extension": ".py",
   "mimetype": "text/x-python",
   "name": "python",
   "nbconvert_exporter": "python",
   "pygments_lexer": "ipython3",
   "version": "3.10.8"
  },
  "orig_nbformat": 4
 },
 "nbformat": 4,
 "nbformat_minor": 2
}
