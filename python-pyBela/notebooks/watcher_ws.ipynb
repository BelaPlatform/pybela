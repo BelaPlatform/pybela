{
 "cells": [
  {
   "cell_type": "code",
   "execution_count": null,
   "metadata": {},
   "outputs": [],
   "source": [
    "import asyncio\n",
    "import nest_asyncio\n",
    "import websockets\n",
    "import json\n",
    "\n",
    "ip = \"192.168.7.2\"\n",
    "port=5555\n",
    "data_add = \"gui_data\"\n",
    "control_add = \"gui_control\"\n",
    "\n",
    "ws_control_add = f\"ws://{ip}:{port}/{control_add}\"\n",
    "ws_data_add = f\"ws://{ip}:{port}/{data_add}\""
   ]
  },
  {
   "cell_type": "code",
   "execution_count": null,
   "metadata": {},
   "outputs": [],
   "source": [
    "nest_asyncio.apply() # event loop needs to be nested - otherwise it conflicts with jupyter's event loop\n",
    "\n",
    "async def send_msg_callback(ws_address,msg):\n",
    "    async with websockets.connect(ws_address) as ws:\n",
    "        await ws.send(json.dumps(msg))\n",
    "        print(f\"Sent: {msg}\")\n",
    "\n",
    "async def rec_msg_callback(ws_address):\n",
    "    async with websockets.connect(ws_address) as ws:\n",
    "        while True:\n",
    "            msg = await ws.recv()\n",
    "            print(f\"Received:{msg}\") # TODO filter according to msg type\n",
    "\n",
    "async def start_listener_callback(ws_address):\n",
    "    await rec_msg_callback(ws_address)\n",
    "\n",
    "def send_msg(ws_address,msg):\n",
    "    loop = asyncio.get_event_loop()\n",
    "    loop.run_until_complete(send_msg_callback(ws_address,msg))\n",
    "\n",
    "def start_listener(ws_address):\n",
    "    loop = asyncio.get_event_loop()\n",
    "    loop.create_task(start_listener_callback(ws_address)) # create_task() is needed so that the listener runs in the background and prints messages as received without blocking the cell"
   ]
  },
  {
   "cell_type": "markdown",
   "metadata": {},
   "source": [
    "### connect to control ws"
   ]
  },
  {
   "cell_type": "code",
   "execution_count": null,
   "metadata": {},
   "outputs": [],
   "source": [
    "start_listener(ws_control_add) # this gets a \"connection\" json response each time, so run only once or TODO filter it out\n"
   ]
  },
  {
   "cell_type": "code",
   "execution_count": null,
   "metadata": {},
   "outputs": [],
   "source": [
    "send_msg(ws_control_add,  {\"watcher\":[{\"cmd\":\"hi\"}]})"
   ]
  },
  {
   "cell_type": "code",
   "execution_count": null,
   "metadata": {},
   "outputs": [],
   "source": [
    "send_msg(ws_control_add,{\"watcher\":[{\"cmd\": \"unwatch\", \"watchers\":['myvar2']}]})"
   ]
  },
  {
   "cell_type": "code",
   "execution_count": null,
   "metadata": {},
   "outputs": [],
   "source": [
    "send_msg(ws_control_add,{\"watcher\":[{\"cmd\":\"list\"}]})"
   ]
  },
  {
   "cell_type": "markdown",
   "metadata": {},
   "source": [
    "### connect to data websockets  "
   ]
  },
  {
   "cell_type": "code",
   "execution_count": null,
   "metadata": {},
   "outputs": [],
   "source": [
    "start_listener(ws_data_add)"
   ]
  },
  {
   "cell_type": "code",
   "execution_count": null,
   "metadata": {},
   "outputs": [],
   "source": [
    "send_msg(ws_control_add,{\"watcher\":[{\"cmd\": \"watch\", \"watchers\":['myvar2']}]})"
   ]
  },
  {
   "cell_type": "code",
   "execution_count": null,
   "metadata": {},
   "outputs": [],
   "source": [
    "send_msg(ws_control_add,{\"watcher\":[{\"cmd\": \"unwatch\", \"watchers\":['myvar2']}]})"
   ]
  },
  {
   "cell_type": "markdown",
   "metadata": {},
   "source": [
    "### watcher class"
   ]
  },
  {
   "cell_type": "code",
   "execution_count": null,
   "metadata": {},
   "outputs": [],
   "source": [
    "import asyncio\n",
    "import nest_asyncio\n",
    "import websockets\n",
    "import json\n",
    "\n",
    "nest_asyncio.apply() # needed for running event loops inside of jupyter event loop"
   ]
  },
  {
   "cell_type": "code",
   "execution_count": null,
   "metadata": {},
   "outputs": [],
   "source": [
    "class Watcher:\n",
    "\n",
    "    def __init__(self, ip=\"192.168.7.2\", port=5555, data_add=\"gui_data\", control_add=\"gui_control\"):\n",
    "        \"\"\" Watcher class __summary__.\n",
    "\n",
    "        Args:\n",
    "            ip (str, optional): Remote address IP. Defaults to \"192.168.7.2\".\n",
    "            port (int, optional): Remote address port. Defaults to 5555.\n",
    "            data_add (str, optional): Data endpoint. Defaults to \"gui_data\".\n",
    "            control_add (str, optional): Control endpoint. Defaults to \"gui_control\".\n",
    "        \"\"\"\n",
    "        self.ip = ip\n",
    "        self.port = port\n",
    "        self.data_add = data_add\n",
    "        self.control_add = control_add\n",
    "        self.ws_control_add = f\"ws://{self.ip}:{self.port}/{self.control_add}\"\n",
    "        self.ws_data_add = f\"ws://{self.ip}:{self.port}/{self.data_add}\"\n",
    "        \n",
    "        self.ws_control = None\n",
    "        self.ws_data = None\n",
    "        \n",
    "        self.__ctrl_listener = None\n",
    "        self.__data_listener = None\n",
    "                \n",
    "        nest_asyncio.apply() # event loop needs to be nested - otherwise it conflicts with jupyter's event loop\n",
    "\n",
    "\n",
    "    # public methods\n",
    "    \n",
    "    def start(self): # TODO check Bela project_name \n",
    "        \n",
    "        if self.__ctrl_listener is None: # avoid duplicate listeners\n",
    "            self.start_ctrl_listener()\n",
    "        if self.__data_listener is None:\n",
    "            self.start_data_listener()\n",
    "    \n",
    "    def stop(self):  \n",
    "        if self.__ctrl_listener is not None:\n",
    "            self.__ctrl_listener.cancel()\n",
    "            self.__ctrl_listener = None # empty the listener \n",
    "        if self.__data_listener is not None:\n",
    "            self.__data_listener.cancel()\n",
    "            self.__data_listener = None\n",
    "    \n",
    "    def send_ctrl_msg(self, msg):\n",
    "        self.__send_msg(self.ws_control,self.ws_control_add, msg)\n",
    "    \n",
    "    def start_ctrl_listener(self):\n",
    "        self.__ctrl_listener = self.__start_listener(self.ws_control,self.ws_control_add)\n",
    "    \n",
    "    def start_data_listener(self):\n",
    "        self.__data_listener = self.__start_listener(self.ws_data, self.ws_data_add)\n",
    "\n",
    "\n",
    "    # __private methods    \n",
    "    \n",
    "    ## start listener   \n",
    "\n",
    "    def __start_listener(self,ws, ws_address):\n",
    "        loop = asyncio.get_event_loop()\n",
    "        listener_task = loop.create_task(self.__start_listener_callback(ws,ws_address)) # create_task() is needed so that the listener runs in the background and prints messages as received without blocking the cell\n",
    "        return listener_task\n",
    "    \n",
    "    async def __start_listener_callback(self, ws, ws_address):\n",
    "        await self.__rec_msg_callback(ws, ws_address)\n",
    "        \n",
    "    ## send message\n",
    "    \n",
    "    def __send_msg(self, ws, ws_address, msg):\n",
    "        loop = asyncio.get_event_loop()\n",
    "        loop.run_until_complete(self.__send_msg_callback(ws,ws_address, msg))   \n",
    "    \n",
    "    async def __send_msg_callback(self,ws, ws_address, msg):\n",
    "        try:\n",
    "            async with websockets.connect(ws_address) as ws: # here you can use the same websocket for multiple messages -- but avoid using the same for sending and receiving\n",
    "                await ws.send(json.dumps(msg))\n",
    "                print(f\"Sent: {msg}\")\n",
    "        except Exception as e:\n",
    "            print(f\"Error while sending message: {e}\") \n",
    "    \n",
    "    ## receive message     \n",
    "    \n",
    "    async def __rec_msg_callback(self, ws, ws_address):\n",
    "        try:\n",
    "            async with websockets.connect(ws_address) as ws:\n",
    "                while True:\n",
    "                    msg = await ws.recv()\n",
    "                    print(f\"{self.__hash__} Received:{msg}\") # TODO filter according to msg type\n",
    "                    # TODO identify variable\n",
    "                    # TODO parsing\n",
    "        except Exception as e:\n",
    "            print(f\"Error while receiving message: {e}\")\n",
    "\n",
    "    def __del__(self):\n",
    "        self.stop()\n",
    "        print(\"Watcher deleted\")\n"
   ]
  },
  {
   "cell_type": "code",
   "execution_count": null,
   "metadata": {},
   "outputs": [],
   "source": [
    "watcher = Watcher()\n",
    "watcher2 = Watcher()\n"
   ]
  },
  {
   "cell_type": "code",
   "execution_count": null,
   "metadata": {},
   "outputs": [],
   "source": [
    "watcher.send_ctrl_msg({\"watcher\":[{\"cmd\": \"watch\", \"watchers\":['myvar2']}]})"
   ]
  },
  {
   "cell_type": "code",
   "execution_count": null,
   "metadata": {},
   "outputs": [],
   "source": [
    "watcher.start()  "
   ]
  },
  {
   "cell_type": "code",
   "execution_count": null,
   "metadata": {},
   "outputs": [],
   "source": [
    "\n",
    "watcher.stop()"
   ]
  },
  {
   "cell_type": "code",
   "execution_count": null,
   "metadata": {},
   "outputs": [],
   "source": [
    "watcher2.start()\n",
    "watcher.start()# calling watcher again does not duplicate prints "
   ]
  },
  {
   "cell_type": "code",
   "execution_count": null,
   "metadata": {},
   "outputs": [],
   "source": [
    "watcher.stop() # not sure this is working properly\n",
    "watcher2.stop()"
   ]
  },
  {
   "cell_type": "markdown",
   "metadata": {},
   "source": [
    "### streamer class"
   ]
  },
  {
   "cell_type": "code",
   "execution_count": null,
   "metadata": {},
   "outputs": [],
   "source": [
    "class Streamer():\n",
    "    def __init__(self, ip=\"192.168.7.2\", port=5555, data_add=\"gui_data\", control_add=\"gui_control\"):\n",
    "        \"\"\" Streamer class __summary__.\n",
    "\n",
    "            Args:\n",
    "                ip (str, optional): Remote address IP. Defaults to \"192.168.7.2\".\n",
    "                port (int, optional): Remote address port. Defaults to 5555.\n",
    "                data_add (str, optional): Data endpoint. Defaults to \"gui_data\".\n",
    "                control_add (str, optional): Control endpoint. Defaults to \"gui_control\".\n",
    "        \"\"\"\n",
    "        self.watcher = Watcher(ip, port, data_add, control_add) # do we need to inherit all methods? or just the send_msg() and start_listener()?\n",
    "        \n",
    "    def stream_forever(self,variables=[]):\n",
    "        \n",
    "        variables = [variables] if isinstance(variables, str) else variables # check variables is list\n",
    "        self.watcher.send_ctrl_msg({\"watcher\":[{\"cmd\": \"watch\", \"watchers\":variables}]})\n",
    "        self.watcher.start()\n",
    "        \n",
    "        \n",
    "    def stop_streaming(self,variables):  # FIX for some reason this stops streaming all variables\n",
    "        variables = [variables] if isinstance(variables, str) else variables    \n",
    "        self.watcher.send_ctrl_msg({\"watcher\":[{\"cmd\": \"unwatch\", \"watchers\":variables}]})\n",
    "\n",
    "            \n",
    "    def stop_streaming_all(self):\n",
    "        self.watcher.stop()\n",
    "                                \n",
    "        "
   ]
  },
  {
   "cell_type": "code",
   "execution_count": null,
   "metadata": {},
   "outputs": [],
   "source": [
    "streamer = Streamer()"
   ]
  },
  {
   "cell_type": "code",
   "execution_count": null,
   "metadata": {},
   "outputs": [],
   "source": [
    "streamer.stream_forever([\"myvar1\",\"myvar2\"])"
   ]
  },
  {
   "cell_type": "code",
   "execution_count": null,
   "metadata": {},
   "outputs": [],
   "source": [
    "streamer.stop_streaming(\"myvar2\")"
   ]
  },
  {
   "cell_type": "code",
   "execution_count": null,
   "metadata": {},
   "outputs": [],
   "source": [
    "streamer.stop_streaming_all()"
   ]
  },
  {
   "cell_type": "code",
   "execution_count": null,
   "metadata": {},
   "outputs": [],
   "source": [
    "streamer = Streamer() # this should delete the previous watcher so that ws are not duplicated"
   ]
  }
 ],
 "metadata": {
  "kernelspec": {
   "display_name": "Python 3 (ipykernel)",
   "language": "python",
   "name": "python3"
  },
  "language_info": {
   "codemirror_mode": {
    "name": "ipython",
    "version": 3
   },
   "file_extension": ".py",
   "mimetype": "text/x-python",
   "name": "python",
   "nbconvert_exporter": "python",
   "pygments_lexer": "ipython3",
   "version": "3.10.12"
  },
  "orig_nbformat": 4
 },
 "nbformat": 4,
 "nbformat_minor": 2
}
