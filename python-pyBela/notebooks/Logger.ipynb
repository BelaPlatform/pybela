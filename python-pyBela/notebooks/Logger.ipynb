{
 "cells": [
  {
   "cell_type": "markdown",
   "metadata": {},
   "source": [
    "# pyBela - Logger\n"
   ]
  },
  {
   "cell_type": "markdown",
   "metadata": {},
   "source": [
    "### Log for a fixed period of time"
   ]
  },
  {
   "cell_type": "code",
   "execution_count": null,
   "metadata": {},
   "outputs": [],
   "source": [
    "from pyBela import Logger\n",
    "\n",
    "# setup\n",
    "logger = Logger(project_name=\"logger-example\", # name of the Bela project\n",
    "                file_name=\"study_1.log\", # name of the log file (created in the Bela project folder)\n",
    "                time_ms=60*1000) # time in ms to log for (default is 1 min)\n",
    "\"\"\"\n",
    " <--- python sends a message to Bela to start logging:\n",
    "{\n",
    "    \"command\": \"start_logging\",\n",
    "    \"project_name\": \"logger-example\",\n",
    "    \"file_name\": \"study_1.log\",\n",
    "}\n",
    " \"\"\" \n",
    "\n",
    "# python asynchronously waits for Bela to send a confirmation message\n",
    "\"\"\"\n",
    "---> Bela sends a confirmation message:\n",
    "{   \n",
    "    \"status_code\": 1,\n",
    "    \"message\": \"Logging started...\" ,\n",
    "    \"time_ms\": 60000\n",
    "    \"variables\": [\"analogFramesElapsed\", \"sensorValue\"]\n",
    "    \"types\": [\"int\", \"float\"]\n",
    "}\n",
    "\"\"\"\n",
    "# print: Logging started...\n",
    "\n",
    "# after 1 min... (timing is managed in Bela)\n",
    "# print: Logging finished\n",
    "\"\"\"\n",
    "---> Bela sends a confirmation message:\n",
    "{   \n",
    "    \"status_code\": 1,\n",
    "    \"message\": \"Logging finished\" \n",
    "}\n",
    "\"\"\""
   ]
  },
  {
   "cell_type": "markdown",
   "metadata": {},
   "source": [
    "### Log until stopped / interrupted"
   ]
  },
  {
   "cell_type": "code",
   "execution_count": null,
   "metadata": {},
   "outputs": [],
   "source": [
    "from pyBela import Logger\n",
    "\n",
    "# setup\n",
    "logger = Logger(project_name=\"logger-example\", # name of the Bela project\n",
    "                file_name=\"study_1.log\", # name of the log file (created in the Bela project folder)\n",
    "                time_ms=0) # time in ms to log for  -- 0 means it will log indefinitely\n",
    "\n",
    "# python asynchronously waits for Bela to send a confirmation message\n",
    "\"\"\"\n",
    "---> Bela sends a confirmation message:\n",
    "{   \n",
    "    \"status_code\": 1,\n",
    "    \"message\": \"Logging started...\",\n",
    "    \"file_name\": \"study_1.log\",\n",
    "    \"time_ms\": 0, # 0 means it will log indefinitely\n",
    "    \"logged_variables\": [\"var1\", \"var2\"]\n",
    "    \"types\": [\"int\", \"float\"]\n",
    "}\n",
    "# logged variables and types are stored in the logger object (required for later decoding)\n",
    "\"\"\"\n",
    "# print: Logging started...\n",
    "# if the Bela program is interrupted, or if the logging is finished from the python side (see cell below)\n",
    "# print: Logging interrupted"
   ]
  },
  {
   "cell_type": "code",
   "execution_count": null,
   "metadata": {},
   "outputs": [],
   "source": [
    "logger.stop() # stop logging\n",
    "# python asynchronously waits for Bela to send a confirmation message\n",
    "\"\"\"\n",
    " <--- python sends a message to Bela to stop logging:\n",
    "{\n",
    "    \"command\": \"stop_logging\",\n",
    "    \"project_name\": \"logger-example\"\n",
    "}\n",
    "\n",
    "---> Bela sends a confirmation message:\n",
    "{   \n",
    "    \"status_code\": 1,\n",
    "    \"message\": \"Logging stopped\" \n",
    "}\n",
    "\"\"\"\n",
    "# print: Logging finished"
   ]
  },
  {
   "cell_type": "markdown",
   "metadata": {},
   "source": [
    "The Bela program runs irrespective of the python side (i.e., stopping the logger won't stop the Bela program). After a logging session is finished, another one can be created with a different file name and logging time."
   ]
  },
  {
   "cell_type": "markdown",
   "metadata": {},
   "source": [
    "### Check available space"
   ]
  },
  {
   "cell_type": "code",
   "execution_count": null,
   "metadata": {},
   "outputs": [],
   "source": [
    "logger.check_space(30*1000*60) # check if there is enough space to log for n ms  \n",
    "\n",
    "\"\"\"\n",
    " <--- python sends a message to Bela \n",
    "{\n",
    "    \"command\": \"space_available\",\n",
    "    \"time_ms\": 1800000\n",
    "}\n",
    "\n",
    " ---> Bela sends a message:\n",
    "{\n",
    "    \"message\": \"space available for 1800000 ms of logging 2 channels\",\n",
    "}\n",
    "\n",
    "\"\"\"\n",
    "\n"
   ]
  },
  {
   "cell_type": "markdown",
   "metadata": {},
   "source": [
    "### Copying logging files back to the host"
   ]
  },
  {
   "cell_type": "code",
   "execution_count": null,
   "metadata": {},
   "outputs": [],
   "source": [
    "# transfer logs to host (for now using ssh)\n",
    "logger.transfer_logs_to_host() \n",
    "\n",
    "#python asynchronously waits for Bela to send a confirmation message\n",
    "#print: Transferring logs to host...\n",
    "\n",
    "\"\"\"\n",
    "---> Bela sends a confirmation message:\n",
    "{\n",
    "    \"status_code\": 1,\n",
    "    \"message\": \"Logs transferred to host\"\n",
    "}\n",
    "\"\"\"\n",
    "# print: Logs transferred to host"
   ]
  },
  {
   "cell_type": "code",
   "execution_count": null,
   "metadata": {},
   "outputs": [],
   "source": [
    "logger.clean() # clean session log file on the Bela side\n",
    "\n",
    "#python asynchronously waits for Bela to send a confirmation message\n",
    "\n",
    "\"\"\"\n",
    "---> Bela sends a confirmation message:\n",
    "{\n",
    "    \"status_code\": 1,\n",
    "    \"message\": \"Log file deleted on Bela\"\n",
    "}\n",
    "\"\"\"\n"
   ]
  },
  {
   "cell_type": "code",
   "execution_count": null,
   "metadata": {},
   "outputs": [],
   "source": [
    "logger_data = logger.load() # load the log file and decode it into a python dictionary. Logger knows the number of channels and type of data for each channel (see message sent by Bela when logging starts)"
   ]
  }
 ],
 "metadata": {
  "language_info": {
   "name": "python"
  },
  "orig_nbformat": 4
 },
 "nbformat": 4,
 "nbformat_minor": 2
}
