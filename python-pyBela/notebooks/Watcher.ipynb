{
 "cells": [
  {
   "cell_type": "markdown",
   "metadata": {},
   "source": [
    "# pyBela - Watcher\n",
    "Watcher is the parent class to Logger, Monitor and Streamer."
   ]
  },
  {
   "cell_type": "markdown",
   "metadata": {},
   "source": [
    "## Setup communication"
   ]
  },
  {
   "cell_type": "code",
   "execution_count": null,
   "metadata": {},
   "outputs": [],
   "source": [
    "import pyBela\n",
    "\n",
    "# establish communication with bela\n",
    "bela = pyBela.connect()\n",
    "\n",
    "\"\"\"\n",
    "in the pyBela module:\n",
    "from  websockets.sync.client import connect\n",
    "websocket =  connect(f'ws://{ip}:{port}/{address}')\n",
    "\"\"\"\n",
    "\n",
    "# once connection is established\n",
    "# print: connected to Bela"
   ]
  },
  {
   "cell_type": "code",
   "execution_count": null,
   "metadata": {},
   "outputs": [],
   "source": [
    "# http://docs.bela.io/structBelaContext.html variables in context can be accessed from bela.context\n",
    "\n",
    "sample_rate = bela.context.analogSampleRate\n",
    "n_analog_channels = bela.context.analogInChannels \n",
    "analog_block_size = bela.context.analogFrames "
   ]
  },
  {
   "cell_type": "markdown",
   "metadata": {},
   "source": [
    "## Watcher status"
   ]
  },
  {
   "cell_type": "code",
   "execution_count": null,
   "metadata": {},
   "outputs": [],
   "source": [
    "watcher.status() # check the status of the watcher\n",
    "\n",
    "#python asynchronously waits for Bela to send a status message\n",
    "\"\"\"\n",
    "---> Bela sends a status message:\n",
    "{\n",
    "    \"status_code\": 1,\n",
    "    \"status\": \"not watching\"\n",
    "}\n",
    "\"\"\""
   ]
  },
  {
   "cell_type": "markdown",
   "metadata": {},
   "source": [
    "## Request list of watched variables"
   ]
  },
  {
   "cell_type": "code",
   "execution_count": null,
   "metadata": {},
   "outputs": [],
   "source": [
    "watcher.list() # returns a list of the variables that are being streamed\n",
    "\"\"\"\n",
    "# if watcher is running \n",
    " <--- python sends a message to request the variables Bela is logging:\n",
    "{\n",
    "    \"command\": \"list_variables\"\n",
    "}\n",
    "\n",
    " ---> Bela sends a message with variables and types:\n",
    "{\n",
    "    \"variables\": [\"analogFramesElapsed\", \"sensorValue\"]\n",
    "    \"types\": [\"int\", \"float\"]\n",
    "}\n",
    "\n",
    "# if watcher is not running\n",
    " ---> Bela sends error message:\n",
    "{\n",
    "    \"message\": \"Watcher not running\"\n",
    "}\n",
    " \"\"\" "
   ]
  }
 ],
 "metadata": {
  "language_info": {
   "name": "python"
  },
  "orig_nbformat": 4
 },
 "nbformat": 4,
 "nbformat_minor": 2
}
