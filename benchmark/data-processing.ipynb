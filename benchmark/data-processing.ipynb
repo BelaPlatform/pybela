{
 "cells": [
  {
   "cell_type": "code",
   "execution_count": null,
   "id": "8fef6589",
   "metadata": {},
   "outputs": [],
   "source": [
    "import os\n",
    "import pandas as pd\n",
    "import numpy as np"
   ]
  },
  {
   "cell_type": "markdown",
   "id": "e5d6e31a",
   "metadata": {},
   "source": [
    "# process data and save into csv\n",
    "for each measurement configuration (num. of streamed variables, num. of oscillators in filterbank), obtain the average and maximum (worst case) latency, jitter, and average CPU load. "
   ]
  },
  {
   "cell_type": "code",
   "execution_count": null,
   "id": "7eeb6eeb",
   "metadata": {},
   "outputs": [
    {
     "name": "stdout",
     "output_type": "stream",
     "text": [
      "USB-V1-O0, mean: 7.6 ms, jitter: 10.1 ms, max: 33.0 ms, cpu_load: 0.37\n",
      "USB-V5-O0, mean: 25.0 ms, jitter: 36.2 ms, max: 122.6 ms, cpu_load: 0.68\n",
      "USB-V10-O0, mean: 47.8 ms, jitter: 65.9 ms, max: 196.6 ms, cpu_load: 0.67\n",
      "USB-V20-O0, mean: 95.9 ms, jitter: 120.1 ms, max: 292.1 ms, cpu_load: 0.66\n",
      "USB-V50-O0, mean: 240.2 ms, jitter: 180.9 ms, max: 602.6 ms, cpu_load: 0.67\n",
      "USB-V100-O0, mean: 475.9 ms, jitter: 221.7 ms, max: 767.0 ms, cpu_load: 0.67\n",
      "USB-V1-O20, mean: 12.3 ms, jitter: 23.7 ms, max: 71.8 ms, cpu_load: 0.76\n",
      "USB-V5-O20, mean: 47.7 ms, jitter: 95.1 ms, max: 221.0 ms, cpu_load: 0.9\n",
      "USB-V10-O20, mean: 93.6 ms, jitter: 145.7 ms, max: 352.7 ms, cpu_load: 0.9\n",
      "USB-V20-O20, mean: 186.7 ms, jitter: 254.6 ms, max: 546.0 ms, cpu_load: 0.89\n",
      "USB-V50-O20, mean: 469.1 ms, jitter: 378.1 ms, max: 989.0 ms, cpu_load: 0.9\n",
      "USB-V100-O20, mean: 894.9 ms, jitter: 432.6 ms, max: 1347.1 ms, cpu_load: 0.88\n",
      "USB-V1-O40, mean: 43.0 ms, jitter: 107.7 ms, max: 195.9 ms, cpu_load: 0.98\n",
      "USB-V5-O40, mean: 193.2 ms, jitter: 375.4 ms, max: 775.3 ms, cpu_load: 0.97\n",
      "USB-V10-O40, mean: 380.9 ms, jitter: 556.1 ms, max: 998.1 ms, cpu_load: 0.97\n",
      "USB-V20-O40, mean: 754.7 ms, jitter: 1194.4 ms, max: 2181.6 ms, cpu_load: 0.98\n",
      "USB-V50-O40, mean: 1896.0 ms, jitter: 1413.2 ms, max: 3279.8 ms, cpu_load: 0.98\n",
      "USB-V100-O40, mean: 3671.0 ms, jitter: 1745.7 ms, max: 6800.2 ms, cpu_load: 0.98\n"
     ]
    }
   ],
   "source": [
    "# list files in folder \n",
    "num_oscs = [0, 20, 40]\n",
    "num_aux_vars = [1, 5, 10, 20, 50, 100]\n",
    "configurations = [ [aux_num,osc_num] for osc_num in num_oscs for aux_num in num_aux_vars]\n",
    "\n",
    "# write header to csv file\n",
    "with open(\"data/processed.csv\", \"a\") as f:\n",
    "    f.write(\"aux_num,osc_num,mean,jitter,max,cpu_load\\n\")\n",
    "\n",
    "\n",
    "for config in configurations:\n",
    "    \n",
    "    aux_num, osc_num = config[0], config[1]\n",
    "    config_array = f\"USB-V{aux_num}-O{osc_num}\"\n",
    "    \n",
    "    # retrieve files from data/folder that contain the configuration name\n",
    "    files = [f for f in os.listdir(\"data\") if config_array in f]\n",
    "    # get mean cpu load\n",
    "    cpu_load_file = [f for f in files if \"cpu-load.log\" in f][0]\n",
    "    cpu_load_df = pd.read_csv(f\"data/{cpu_load_file}\", sep=\" \", header=None).dropna().iloc[:, [1]]  # Keep only the second column, which is the cpu_load column    \n",
    "    # drop last six rows (they show measurements after the Bela code is stopped)\n",
    "    cpu_load_df = cpu_load_df.iloc[:-6]\n",
    "    cpu_load_array = cpu_load_df.iloc[:, 0].str.rstrip('%').astype(float).to_numpy() / 100\n",
    "    # cap values >100 to 100\n",
    "    cpu_load_array[cpu_load_array > 1] = 1\n",
    "    mean_cpu_load = np.mean(cpu_load_array)\n",
    "    \n",
    "    diff_file = [f for f in files if \"diffs.csv\" in f][0]\n",
    "    diff_df = pd.read_csv(f\"data/{diff_file}\")\n",
    "\n",
    "    # calc jitter as the difference between the 97.5 and 2.5 percentiles of the mean across all variables\n",
    "    diff_df_mean_across_vars = diff_df.mean(axis=1)    \n",
    "    lower_bound = diff_df_mean_across_vars.quantile(0.025)\n",
    "    upper_bound = diff_df_mean_across_vars.quantile(0.975)\n",
    "    jitter = upper_bound - lower_bound\n",
    "    \n",
    "    # get mean and max across all variables (not using std as it's not a normal distribution)\n",
    "    stats = diff_df.describe()\n",
    "    mean = stats.loc[\"mean\"].mean().round(1) # average across variables\n",
    "    max = stats.loc[\"max\"].max().round(1)\n",
    "\n",
    "    print(f\"{config_array}, mean: {mean:.1f} ms, jitter: {jitter:.1f} ms, max: {max:.1f} ms, cpu_load: {mean_cpu_load:.2}\")\n",
    "\n",
    "    # store in csv file\n",
    "    with open(\"data/processed.csv\", \"a\") as f:\n",
    "        f.write(f\"{aux_num},{osc_num},{mean:.1f},{jitter:.1f},{max:.1f},{mean_cpu_load:.2}\\n\")\n",
    "    "
   ]
  },
  {
   "cell_type": "markdown",
   "id": "97d1de21",
   "metadata": {},
   "source": [
    "export to latex"
   ]
  },
  {
   "cell_type": "code",
   "execution_count": 28,
   "id": "3eff39c9",
   "metadata": {},
   "outputs": [],
   "source": [
    "df = pd.read_csv(\"data/processed.csv\")\n",
    "#sort by aux_num and osc_num\n",
    "df = df.sort_values(by=[\"aux_num\", \"osc_num\"])\n",
    "\n",
    "# export to latex\n",
    "with open('table.tex', 'w') as tf:\n",
    "     tf.write(df.to_latex())"
   ]
  }
 ],
 "metadata": {
  "kernelspec": {
   "display_name": ".venv",
   "language": "python",
   "name": "python3"
  },
  "language_info": {
   "codemirror_mode": {
    "name": "ipython",
    "version": 3
   },
   "file_extension": ".py",
   "mimetype": "text/x-python",
   "name": "python",
   "nbconvert_exporter": "python",
   "pygments_lexer": "ipython3",
   "version": "3.10.16"
  }
 },
 "nbformat": 4,
 "nbformat_minor": 5
}
