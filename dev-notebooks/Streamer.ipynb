{
 "cells": [
  {
   "cell_type": "markdown",
   "metadata": {},
   "source": [
    "# pyBela - Streaming\n"
   ]
  },
  {
   "cell_type": "markdown",
   "metadata": {},
   "source": [
    "## Stream for a fixed period of time"
   ]
  },
  {
   "cell_type": "code",
   "execution_count": null,
   "metadata": {},
   "outputs": [],
   "source": [
    "from pyBela import Streamer\n",
    "\n",
    "# setup\n",
    "streamer = Streamer(project_name=\"streamer-example\", # name of the Bela project\n",
    "                time_ms=60*1000) # time in ms to stream for (default is 1 min)\n",
    "\"\"\"\n",
    " <--- python sends a message to Bela to start logging:\n",
    "{\n",
    "    \"command\": \"start_streamer\",\n",
    "    \"project_name\": \"streamer-example\",\n",
    "}\n",
    " \"\"\" \n",
    "\n",
    "# python asynchronously waits for Bela to send a confirmation message\n",
    "\"\"\"\n",
    "---> Bela sends a confirmation message:\n",
    "{   \n",
    "    \"status_code\": 1,\n",
    "    \"message\": \"Streaming started...\" ,\n",
    "    \"time_ms\": 60000\n",
    "    \"variables\": [\"analogFramesElapsed\", \"sensorValue\"]\n",
    "    \"types\": [\"int\", \"float\"]\n",
    "}\n",
    "\"\"\"\n",
    "# print: Streaming started...\n",
    "\n",
    "# after 1 min... (timing is managed in Bela)\n",
    "# print: Stream finished\n",
    "\"\"\"\n",
    "---> Bela sends a confirmation message:\n",
    "{   \n",
    "    \"status_code\": 1,\n",
    "    \"message\": \"Streaming finished\" \n",
    "}\n",
    "\"\"\""
   ]
  },
  {
   "cell_type": "markdown",
   "metadata": {},
   "source": [
    "The data is stored as it arrives in `streamer.data`. Since the cell above is run asynchronously, the content of `streamer.data` can be accessed during the streaming session:"
   ]
  },
  {
   "cell_type": "code",
   "execution_count": null,
   "metadata": {},
   "outputs": [],
   "source": [
    "streamer.data # returns the data received from Bela at the time of running the cell\n",
    "# streamer.data has a fixed buffer size that can be set with streamer.set_buffer_size(1000)"
   ]
  },
  {
   "cell_type": "markdown",
   "metadata": {},
   "source": [
    "as well as dynamically plotted using bokeh (see `streaming_plots.ipynb`)"
   ]
  },
  {
   "cell_type": "code",
   "execution_count": null,
   "metadata": {},
   "outputs": [],
   "source": [
    "streamer.plot() # plots the data as it comes (see streaming_plots.ipynb for asyncio code – asyncio is a python library for asynchronous programming–)"
   ]
  },
  {
   "cell_type": "markdown",
   "metadata": {},
   "source": [
    "### Stream until stopped / interrupted"
   ]
  },
  {
   "cell_type": "code",
   "execution_count": null,
   "metadata": {},
   "outputs": [],
   "source": [
    "from pyBela import Streamer\n",
    "\n",
    "# setup\n",
    "streamer = Streamer(project_name=\"streamer-example\", # name of the Bela project\n",
    "                time_ms=60*1000) # time in ms to stream for (default is 1 min)\n",
    "\n",
    "\n",
    "# python asynchronously waits for Bela to send a confirmation message\n",
    "\"\"\"\n",
    "---> Bela sends a confirmation message:\n",
    "{   \n",
    "    \"status_code\": 1,\n",
    "    \"message\": \"Streaming started...\" ,\n",
    "    \"time_ms\": 0, # 0 means streaming will continue until interrupted\n",
    "    \"variables\": [\"analogFramesElapsed\", \"sensorValue\"]\n",
    "    \"types\": [\"int\", \"float\"]\n",
    "}\n",
    "\"\"\"\n",
    "# print: Streaming started...\n",
    "\n",
    "\"\"\"\n",
    "---> Bela sends a confirmation message:\n",
    "{   \n",
    "    \"status_code\": 1,\n",
    "    \"message\": \"Streaming finished\" \n",
    "}\n",
    "\"\"\"\n",
    "# if the Bela program is interrupted, or if the streaming is finished from the python side (see cell below)\n",
    "# print: Streaming interrupted"
   ]
  },
  {
   "cell_type": "code",
   "execution_count": null,
   "metadata": {},
   "outputs": [],
   "source": [
    "streamer.stop() # stop logging\n",
    "# python asynchronously waits for Bela to send a confirmation message\n",
    "\"\"\"\n",
    " <--- python sends a message to Bela to stop logging:\n",
    "{\n",
    "    \"command\": \"stop_streamer\",\n",
    "    \"project_name\": \"streamer-example\"\n",
    "}\n",
    "\n",
    "---> Bela sends a confirmation message:\n",
    "{   \n",
    "    \"status_code\": 1,\n",
    "    \"message\": \"Streaming stopped\" \n",
    "}\n",
    "\"\"\"\n",
    "# print: Streaming finished"
   ]
  },
  {
   "cell_type": "markdown",
   "metadata": {},
   "source": [
    "The Bela program runs irrespective of the python side (i.e., stopping the streamer won't stop the Bela program). After a streaming session is finished, another one can be created with a different file name and streaming time."
   ]
  },
  {
   "cell_type": "markdown",
   "metadata": {},
   "source": [
    "As in the previous section (Streaming for a fixed period of time), data is received asynchronously in `streamer.data` and can be plotted asynchronously in `streamer.plot()`."
   ]
  },
  {
   "cell_type": "code",
   "execution_count": null,
   "metadata": {},
   "outputs": [],
   "source": [
    "# TODO add saving"
   ]
  }
 ],
 "metadata": {
  "language_info": {
   "name": "python"
  },
  "orig_nbformat": 4
 },
 "nbformat": 4,
 "nbformat_minor": 2
}
