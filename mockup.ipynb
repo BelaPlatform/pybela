{
 "cells": [
  {
   "attachments": {},
   "cell_type": "markdown",
   "metadata": {},
   "source": [
    "# pyBela"
   ]
  },
  {
   "attachments": {},
   "cell_type": "markdown",
   "metadata": {},
   "source": [
    "## Setup"
   ]
  },
  {
   "cell_type": "code",
   "execution_count": null,
   "metadata": {},
   "outputs": [],
   "source": [
    "import pyBela\n",
    "\n",
    "# establish communication with bela\n",
    "\n",
    "bela = pyBela.find_bela()\n",
    "pyBela.handshake_bela(bela, sleep_time=1, handshake_code=0)"
   ]
  },
  {
   "cell_type": "code",
   "execution_count": null,
   "metadata": {},
   "outputs": [],
   "source": [
    "# http://docs.bela.io/structBelaContext.html variables in context should be accessible from bela.context\n",
    "\n",
    "sample_rate = bela.context.analogSampleRate\n",
    "n_analog_channels = bela.context.analogInChannels \n",
    "analog_block_size = bela.context.analogFrames \n"
   ]
  },
  {
   "attachments": {},
   "cell_type": "markdown",
   "metadata": {},
   "source": [
    "## Basic GPIO API\n",
    "For reading and writing values on demand to the GPIO"
   ]
  },
  {
   "cell_type": "code",
   "execution_count": null,
   "metadata": {},
   "outputs": [],
   "source": [
    "from pyBela import gpio\n",
    "\n",
    "value = gpio.analog_read('A0') # value can also be passed as bitarray '10000000'\n",
    "gpio.digital_write('D2', 0) # set D2 to 0"
   ]
  },
  {
   "attachments": {},
   "cell_type": "markdown",
   "metadata": {},
   "source": [
    "## Streaming\n",
    "- Asynchronously sends data to the jupyter notebook. \n",
    "\n"
   ]
  },
  {
   "cell_type": "code",
   "execution_count": null,
   "metadata": {},
   "outputs": [],
   "source": [
    "from pyBela import Streammer\n",
    "\n",
    "# init and run streammer\n",
    "time_in_samples = 3*sample_rate # 3s\n",
    "num_blocks = ceil(time_in_samples/analog_block_size)\n",
    "\n",
    "streammer = Streammer(num_blocks=num_blocks) # if None, it runs until stopped (ctrl+c or button in Bela cape)\n",
    "\n",
    "streammer.run(plot=True) # Q add callback here too?\n",
    "# bela cape light turns on to indicate streamming is happening\n",
    "\n",
    "# dynamic bokeh plot with tabs for sensors and zoom etc. \n",
    "# Q the bokeh plot could also have an ipywidget to stop the recording ? -- but going into GUI never ends"
   ]
  },
  {
   "cell_type": "code",
   "execution_count": null,
   "metadata": {},
   "outputs": [],
   "source": [
    "data = streammer.get_data() # (num_blocks*block_size, n_analog_channels)"
   ]
  },
  {
   "attachments": {},
   "cell_type": "markdown",
   "metadata": {},
   "source": [
    "## Monitoring\n",
    "- Samples a variable in the code or a channel. \n",
    "- Can be used to get a single value (on-request fashion) or a number of blocks\n",
    "- Variables can be plotted dynamically"
   ]
  },
  {
   "cell_type": "code",
   "execution_count": null,
   "metadata": {},
   "outputs": [],
   "source": [
    "from pyBela import Watcher\n",
    "\n",
    "# init and run watcher\n",
    "watcher = Watcher(analog_channels=\"11100000\", # we select analog channels A0, A1 and A2 with a bitarray\n",
    "                  num_blocks = 16) \n",
    "\n",
    "\n",
    "## a callback can be passed to the watcher to do something given a condition in the watched values. e.g., turn a light on in the Bela cape if the signal peaks\n",
    "\n",
    "def callback(n): # n is the current frame \n",
    "    chIdx = 1; # Analog Channel A1\n",
    "    if watcher.buffer[chIdx][n] > 0.4: # if frame n on channel A1 is above threshold\n",
    "        lightIdx = 1 # e.g., blue light, red light is reserved for indicating that streamming / watching / logging is running \n",
    "        watcher.blinkLight(lightIdx); \n",
    "        watcher.callbackRegister[n] = 1; # set flag in callback register -- Q not sure if this make sense if there's no one to clean it \n",
    "\n",
    "\n",
    "# run\n",
    "watcher.run(plot=True, callback=callback)\n",
    "\n",
    "# Q does it make sense here to have a streamming / dynamic plot with bokeh if the measurements are always gonna be of only a number of ms?\n",
    "# It probably does make sense to have a sort of Oscilloscope plot ? -- is the oscilloscope streamming or monitoriing?\n",
    "# maybe if you want an oscilloscope it is better to just stream"
   ]
  },
  {
   "cell_type": "code",
   "execution_count": null,
   "metadata": {},
   "outputs": [],
   "source": [
    "from bela.utils import plotter\n",
    "\n",
    "# retrieve data and plot\n",
    "data = watcher.get_data() # (analog_block_size*4, analogInChannels)\n",
    "\n",
    "plotter(data) # bokeh plot with options to show/hide every signal, zooming in, etc."
   ]
  },
  {
   "attachments": {},
   "cell_type": "markdown",
   "metadata": {},
   "source": [
    "Watcher can also be used to ask for a single variable reading - same functionality as the basic GPIO API"
   ]
  },
  {
   "cell_type": "code",
   "execution_count": null,
   "metadata": {},
   "outputs": [],
   "source": [
    "watcher = Watcher() \n",
    "voltage = watcher.read(channel=0)"
   ]
  },
  {
   "attachments": {},
   "cell_type": "markdown",
   "metadata": {},
   "source": [
    "## Logging\n",
    "- The Bela Logger logs data into files that live either in the Bela or in the Host machine. \n",
    "- The utility of logging directly into the host machine avoids running out of memory in the Bela for long measurements (e.g., a study, large dataset)\n",
    "- Files are saved as binary to occupy less space"
   ]
  },
  {
   "cell_type": "code",
   "execution_count": null,
   "metadata": {},
   "outputs": [],
   "source": [
    "from pyBela import Logger\n",
    "\n",
    "# init and run logger\n",
    "logger = Logger(where=\"BELA\", # can be in host or bela\n",
    "                analog_channels=\"11100000\") # Logger automatically logs all analog channels. Channels can be selected with a bitarray. Here we are selecting the analog In channels A0, A1 and A2. \n",
    "\n",
    "logger.run(name=\"study1.log\", num_blocks=None) # num_blocks is the number of blocks the logger runs. if None, runs until stopped \n",
    "# when this cell is ran -a- light in the Bela board is turned on indicating that the logger is running \n",
    "# can be stopped with ctrl-c and ideally also from a button in the Bela cape "
   ]
  },
  {
   "cell_type": "code",
   "execution_count": null,
   "metadata": {},
   "outputs": [],
   "source": [
    "# transfer logs to host\n",
    "logger.trans(auto_clean=False) # transfer file to jupyter notebook directory.\n",
    "logger.clean() # cleans logger files in Bela after transferring them to the host"
   ]
  },
  {
   "cell_type": "code",
   "execution_count": null,
   "metadata": {},
   "outputs": [],
   "source": [
    "# load logged data\n",
    "logged_data = logger.load() # loads logged data as numpy. the logger object knows how many channels have been recorded and hence can decode the binary file. data can also be loaded directly from the binary file but the number of channels and encoding needs to be known in advance"
   ]
  },
  {
   "attachments": {},
   "cell_type": "markdown",
   "metadata": {},
   "source": [
    "### to do \n",
    "- bela code \n",
    "  \n",
    "### extras\n",
    "- labelling ?\n",
    "- widgets ?\n",
    "- provide official kernel ? (why does CircuitPython provide its own?)"
   ]
  }
 ],
 "metadata": {
  "kernelspec": {
   "display_name": "bela-internship-m6fVmDb2",
   "language": "python",
   "name": "python3"
  },
  "language_info": {
   "codemirror_mode": {
    "name": "ipython",
    "version": 3
   },
   "file_extension": ".py",
   "mimetype": "text/x-python",
   "name": "python",
   "nbconvert_exporter": "python",
   "pygments_lexer": "ipython3",
   "version": "3.10.8"
  },
  "orig_nbformat": 4
 },
 "nbformat": 4,
 "nbformat_minor": 2
}
