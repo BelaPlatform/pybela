{
 "cells": [
  {
   "cell_type": "markdown",
   "metadata": {},
   "source": [
    "# pyBela - Monitor"
   ]
  },
  {
   "cell_type": "code",
   "execution_count": null,
   "metadata": {},
   "outputs": [],
   "source": [
    "from pyBela import Monitor\n",
    "\n",
    "# setup\n",
    "monitor = Monitor(project_name=\"monitor-example\")\n",
    "\"\"\"\n",
    " <--- python sends a message to Bela to start monitoring:\n",
    "{\n",
    "    \"command\": \"start_monitor\",\n",
    "    \"project_name\": \"monitor-example\",\n",
    "}\n",
    " \"\"\" \n",
    "\n",
    "# python asynchronously waits for Bela to send a confirmation message\n",
    "\"\"\"\n",
    "---> Bela sends a confirmation message:\n",
    "{   \n",
    "    \"status_code\": 1,\n",
    "    \"message\": \"Monitoring started...\" ,\n",
    "    \"variables\": [\"analogFramesElapsed\", \"sensorValue\"]\n",
    "    \"types\": [\"int\", \"float\"]\n",
    "}\n",
    "\"\"\""
   ]
  },
  {
   "cell_type": "markdown",
   "metadata": {},
   "source": [
    "### Request immediate single value"
   ]
  },
  {
   "cell_type": "code",
   "execution_count": null,
   "metadata": {},
   "outputs": [],
   "source": [
    "monitor.request(\"sensorValue\") # if no other parameters are passed, a single value is requested. Bela will send the value of sensorValue at the time it receives the request\n",
    "\n",
    "\"\"\"\n",
    " <--- python sends a message to Bela to start logging:\n",
    "{\n",
    "    \"command\": \"request_value\",\n",
    "    \"requested_variable\": \"sensorValue\",\n",
    "    \"project_name\": \"monitor-example\",\n",
    "    \"delay_ms\": 0\n",
    "}\n",
    " \"\"\" \n",
    "\n",
    "# python asynchronously waits for Bela to send the requested value\n",
    "\"\"\"\n",
    "---> Bela sends the requested value back:\n",
    "{   \n",
    "    \"status_code\": 1,\n",
    "    \"message\": \"Requested sensorValue\" ,\n",
    "    \"type\": float,\n",
    "    value: 0.470\n",
    "}\n",
    "\"\"\"\n"
   ]
  },
  {
   "cell_type": "markdown",
   "metadata": {},
   "source": [
    "### Request window of values "
   ]
  },
  {
   "cell_type": "code",
   "execution_count": null,
   "metadata": {},
   "outputs": [],
   "source": [
    "monitor.request(\"sensorValue\", \n",
    "                window_ms=5*1000) # request a window of 5 seconds of sensorValue \n",
    "\n",
    "\"\"\"\n",
    " <--- python sends a message to Bela to start logging:\n",
    "{\n",
    "    \"command\": \"request_window\",\n",
    "    \"window_length\": 5000,\n",
    "    \"requested_variable\": \"sensorValue\",\n",
    "    \"project_name\": \"monitor-example\",\n",
    "    \"delay_ms\": 0\n",
    "}\n",
    " \"\"\" \n",
    "\n",
    "# python asynchronously waits for Bela to send the requested window (all data is sent at once?)\n",
    "\"\"\"\n",
    "---> Bela sends the requested window back:\n",
    "{   \n",
    "    \"status_code\": 1,\n",
    "    \"message\": \"Requested sensorValue\" ,\n",
    "    \"type\": float,\n",
    "    values: [0.470, 0.476....]\n",
    "}\n",
    "\"\"\"\n"
   ]
  },
  {
   "cell_type": "markdown",
   "metadata": {},
   "source": [
    "## Request value (or window of values) with a delay"
   ]
  },
  {
   "cell_type": "code",
   "execution_count": null,
   "metadata": {},
   "outputs": [],
   "source": [
    "monitor.request(\"sensorValue\", \n",
    "                window_ms=5*1000, # request a window of 5 seconds of sensorValue \n",
    "                delay=1000) # start monitoring the window 1s after receiving the request\n",
    "\n",
    "\n",
    "\"\"\"\n",
    " <--- python sends a message to Bela to start logging:\n",
    "{\n",
    "    \"command\": \"request_window\",\n",
    "    \"window_length\": 5000,\n",
    "    \"requested_variable\": \"sensorValue\",\n",
    "    \"project_name\": \"monitor-example\",\n",
    "    \"delay_ms\": 1000\n",
    "}\n",
    " \"\"\" \n",
    "\n",
    "# python asynchronously waits for Bela to send the requested window (all data is sent at once?)\n",
    "\"\"\"\n",
    "---> Bela sends the requested window back:\n",
    "{   \n",
    "    \"status_code\": 1,\n",
    "    \"message\": \"Requested sensorValue\" ,\n",
    "    \"type\": float,\n",
    "    values: [0.470, 0.476....],\n",
    "    \"delay_ms\": 1000\n",
    "}\n",
    "\"\"\"\n",
    "  "
   ]
  }
 ],
 "metadata": {
  "language_info": {
   "name": "python"
  },
  "orig_nbformat": 4
 },
 "nbformat": 4,
 "nbformat_minor": 2
}
